{
 "cells": [
  {
   "cell_type": "code",
   "execution_count": 1,
   "metadata": {},
   "outputs": [
    {
     "name": "stdout",
     "output_type": "stream",
     "text": [
      "[PhysicalDevice(name='/physical_device:GPU:0', device_type='GPU'), PhysicalDevice(name='/physical_device:GPU:1', device_type='GPU')]\n"
     ]
    }
   ],
   "source": [
    "import time\n",
    "start = time.time()\n",
    "import pandas as pd\n",
    "import numpy as np\n",
    "from sklearn.model_selection import train_test_split\n",
    "import tensorflow as tf\n",
    "import matplotlib.pyplot as plt\n",
    "keras = tf.keras\n",
    "from tensorflow.keras.utils import to_categorical\n",
    "from livelossplot import PlotLossesKerasTF\n",
    "import funzioni as fz\n",
    "import importlib\n",
    "from collections import Counter\n",
    "from tensorflow.keras.utils import to_categorical\n",
    "from imblearn.under_sampling import ClusterCentroids\n",
    "from imblearn.over_sampling import RandomOverSampler\n",
    "from imblearn.pipeline import Pipeline\n",
    "from imblearn.under_sampling import RandomUnderSampler\n",
    "from imblearn.datasets import make_imbalance\n",
    "from imblearn.under_sampling import NearMiss\n",
    "from imblearn.metrics import classification_report_imbalanced\n",
    "import pickle\n",
    "from tensorflow.keras.layers import Dense, Input, Conv1D, Dropout, MaxPooling1D, Flatten, concatenate, AveragePooling1D\n",
    "from tensorflow.keras.models import Model\n",
    "gpus = tf.config.experimental.list_physical_devices('GPU')\n",
    "from tensorflow.keras.utils import plot_model\n",
    "from sklearn import preprocessing\n",
    "from sklearn.decomposition import PCA\n",
    "from sklearn.pipeline import Pipeline\n",
    "from sklearn.neighbors import KNeighborsClassifier\n",
    "from sklearn.metrics import f1_score\n",
    "from scipy.signal import find_peaks\n",
    "from sklearn.ensemble import RandomForestClassifier\n",
    "\n",
    "\n",
    "print(gpus)\n",
    "if gpus:\n",
    "  # Restrict TensorFlow to only use the second GPU\n",
    "  try:\n",
    "    tf.config.experimental.set_visible_devices(gpus[0], 'GPU')\n",
    "    tf.config.experimental.set_memory_growth(gpus[0], True)\n",
    "  except RuntimeError as e:\n",
    "    # Visible devices must be set at program startup\n",
    "    print(e)\n",
    "\n",
    "\n",
    "from tensorflow.keras.layers import Conv1D, Activation, GlobalAveragePooling1D, MaxPooling1D, AveragePooling1D, Dropout, Dense, Lambda, Flatten\n",
    "from tensorflow.keras.models import Sequential\n",
    "from tensorflow.keras.regularizers import l2\n",
    "\n",
    "from sklearn.model_selection import StratifiedKFold\n",
    "from sklearn.model_selection import RepeatedStratifiedKFold\n",
    "from sklearn.model_selection import cross_val_score\n",
    "from sklearn.tree import DecisionTreeClassifier\n",
    "from tensorflow.keras.wrappers.scikit_learn import KerasClassifier\n",
    "\n",
    "def print_count(labels):\n",
    "    c=Counter(labels)\n",
    "    print(sorted(c.items()))\n",
    "    tot=sum(c.values())\n",
    "    for item in c.items():\n",
    "        print(item[0], round(item[1]/tot*100, 2), '%')"
   ]
  },
  {
   "cell_type": "code",
   "execution_count": 2,
   "metadata": {},
   "outputs": [
    {
     "name": "stdout",
     "output_type": "stream",
     "text": [
      "[(0, 15714), (1, 8909), (2, 19051), (3, 6930), (4, 6468), (5, 6197), (6, 14627)]\n",
      "0 20.17 %\n",
      "3 8.9 %\n",
      "1 11.44 %\n",
      "2 24.46 %\n",
      "5 7.96 %\n",
      "4 8.3 %\n",
      "6 18.78 %\n"
     ]
    }
   ],
   "source": [
    "#data loading\n",
    "data=pd.read_pickle('/data1/Domenico/alldatatype.ino.pkl')\n",
    "X=data.iloc[:,0:3250]\n",
    "y=data.iloc[:,3251:]\n",
    "y['class']=y.apply(np.argmax, axis=1)\n",
    "print_count(y['class'])\n",
    "y=y['class']"
   ]
  },
  {
   "cell_type": "raw",
   "metadata": {},
   "source": [
    "plt.plot(X.values[1])\n",
    "plt.show()"
   ]
  },
  {
   "cell_type": "code",
   "execution_count": 3,
   "metadata": {},
   "outputs": [
    {
     "name": "stdout",
     "output_type": "stream",
     "text": [
      "<class 'pandas.core.frame.DataFrame'>\n",
      "Int64Index: 77896 entries, 0 to 77897\n",
      "Data columns (total 1 columns):\n",
      " #   Column  Non-Null Count  Dtype \n",
      "---  ------  --------------  ----- \n",
      " 0   0       77896 non-null  object\n",
      "dtypes: object(1)\n",
      "memory usage: 1.2+ MB\n"
     ]
    }
   ],
   "source": [
    "#peaks dataframe (all peaks position)\n",
    "peaks=X.apply(find_peaks, axis=1).apply(lambda x:pd.Series(x))\n",
    "peaks=peaks.drop(1, axis=1)\n",
    "peaks.info()"
   ]
  },
  {
   "cell_type": "code",
   "execution_count": 4,
   "metadata": {},
   "outputs": [
    {
     "data": {
      "text/html": [
       "<div>\n",
       "<style scoped>\n",
       "    .dataframe tbody tr th:only-of-type {\n",
       "        vertical-align: middle;\n",
       "    }\n",
       "\n",
       "    .dataframe tbody tr th {\n",
       "        vertical-align: top;\n",
       "    }\n",
       "\n",
       "    .dataframe thead th {\n",
       "        text-align: right;\n",
       "    }\n",
       "</style>\n",
       "<table border=\"1\" class=\"dataframe\">\n",
       "  <thead>\n",
       "    <tr style=\"text-align: right;\">\n",
       "      <th></th>\n",
       "      <th>0</th>\n",
       "    </tr>\n",
       "  </thead>\n",
       "  <tbody>\n",
       "    <tr>\n",
       "      <th>0</th>\n",
       "      <td>[798, 994, 1102, 1387, 1784, 1883, 1940, 2007,...</td>\n",
       "    </tr>\n",
       "    <tr>\n",
       "      <th>1</th>\n",
       "      <td>[132, 223, 323, 469, 478, 515, 535, 595, 631, ...</td>\n",
       "    </tr>\n",
       "    <tr>\n",
       "      <th>2</th>\n",
       "      <td>[101, 247, 453, 537, 609, 645, 712, 747, 808, ...</td>\n",
       "    </tr>\n",
       "    <tr>\n",
       "      <th>3</th>\n",
       "      <td>[131, 385, 491, 514, 589, 654, 745, 805, 888, ...</td>\n",
       "    </tr>\n",
       "    <tr>\n",
       "      <th>4</th>\n",
       "      <td>[534, 1106, 1138, 1333, 1343, 1534, 1694, 1717...</td>\n",
       "    </tr>\n",
       "    <tr>\n",
       "      <th>...</th>\n",
       "      <td>...</td>\n",
       "    </tr>\n",
       "    <tr>\n",
       "      <th>77893</th>\n",
       "      <td>[242, 604, 613, 737, 968, 1061, 1175, 1246, 12...</td>\n",
       "    </tr>\n",
       "    <tr>\n",
       "      <th>77894</th>\n",
       "      <td>[64, 213, 230, 330, 380, 418, 633, 642, 679, 6...</td>\n",
       "    </tr>\n",
       "    <tr>\n",
       "      <th>77895</th>\n",
       "      <td>[65, 244, 342, 382, 406, 422, 659, 678, 700, 7...</td>\n",
       "    </tr>\n",
       "    <tr>\n",
       "      <th>77896</th>\n",
       "      <td>[340, 587, 686, 776, 937, 1080, 1210, 1271, 13...</td>\n",
       "    </tr>\n",
       "    <tr>\n",
       "      <th>77897</th>\n",
       "      <td>[270, 602, 750, 795, 959, 1070, 1237, 1329, 14...</td>\n",
       "    </tr>\n",
       "  </tbody>\n",
       "</table>\n",
       "<p>77896 rows × 1 columns</p>\n",
       "</div>"
      ],
      "text/plain": [
       "                                                       0\n",
       "0      [798, 994, 1102, 1387, 1784, 1883, 1940, 2007,...\n",
       "1      [132, 223, 323, 469, 478, 515, 535, 595, 631, ...\n",
       "2      [101, 247, 453, 537, 609, 645, 712, 747, 808, ...\n",
       "3      [131, 385, 491, 514, 589, 654, 745, 805, 888, ...\n",
       "4      [534, 1106, 1138, 1333, 1343, 1534, 1694, 1717...\n",
       "...                                                  ...\n",
       "77893  [242, 604, 613, 737, 968, 1061, 1175, 1246, 12...\n",
       "77894  [64, 213, 230, 330, 380, 418, 633, 642, 679, 6...\n",
       "77895  [65, 244, 342, 382, 406, 422, 659, 678, 700, 7...\n",
       "77896  [340, 587, 686, 776, 937, 1080, 1210, 1271, 13...\n",
       "77897  [270, 602, 750, 795, 959, 1070, 1237, 1329, 14...\n",
       "\n",
       "[77896 rows x 1 columns]"
      ]
     },
     "execution_count": 4,
     "metadata": {},
     "output_type": "execute_result"
    }
   ],
   "source": [
    "peaks"
   ]
  },
  {
   "cell_type": "code",
   "execution_count": 5,
   "metadata": {},
   "outputs": [],
   "source": [
    "#transform into series\n",
    "peaks_series = peaks.squeeze()"
   ]
  },
  {
   "cell_type": "raw",
   "metadata": {},
   "source": [
    "lenghts=[]\n",
    "for item in peaks_series:\n",
    "    ll=len(item)\n",
    "    #print(len(item))\n",
    "    lenghts.append(ll)"
   ]
  },
  {
   "cell_type": "raw",
   "metadata": {},
   "source": [
    "print(set(lenghts))"
   ]
  },
  {
   "cell_type": "raw",
   "metadata": {},
   "source": [
    "plt.hist(lenghts, bins='auto')"
   ]
  },
  {
   "cell_type": "code",
   "execution_count": 6,
   "metadata": {},
   "outputs": [],
   "source": [
    "#flag the rows that don't have enough peaks\n",
    "cut=10\n",
    "\n",
    "def truncate(x):\n",
    "    if len(x)>cut+1:\n",
    "        return x[0:cut], int(len(x))\n",
    "    else:\n",
    "        return 'toberemoved'\n",
    "\n",
    "peaks_series_trunc=peaks_series.apply(truncate)"
   ]
  },
  {
   "cell_type": "code",
   "execution_count": 7,
   "metadata": {},
   "outputs": [
    {
     "name": "stdout",
     "output_type": "stream",
     "text": [
      "9775\n"
     ]
    }
   ],
   "source": [
    "#Get the indexes of flagged rows\n",
    "drop_indexes=peaks_series_trunc[peaks_series_trunc == 'toberemoved'].index\n",
    "#print(drop_indexes)\n",
    "#drop the rows and the corresponding labels\n",
    "peaks_series_trunc=peaks_series_trunc.drop(drop_indexes)\n",
    "print(len(drop_indexes))\n",
    "y_trunc=y.drop(drop_indexes)"
   ]
  },
  {
   "cell_type": "code",
   "execution_count": 8,
   "metadata": {},
   "outputs": [],
   "source": [
    "X_peaks=pd.DataFrame.from_dict(dict(zip(peaks_series_trunc.index, peaks_series_trunc.values))).T\n",
    "X_peaks.columns=['peaks','len']"
   ]
  },
  {
   "cell_type": "code",
   "execution_count": 9,
   "metadata": {},
   "outputs": [],
   "source": [
    "X_cut = pd.concat([X_peaks.peaks.apply(pd.Series), X_peaks.len], axis=1)"
   ]
  },
  {
   "cell_type": "code",
   "execution_count": 10,
   "metadata": {},
   "outputs": [],
   "source": [
    "X_cut.len=X_cut.len.astype('int64')"
   ]
  },
  {
   "cell_type": "code",
   "execution_count": 11,
   "metadata": {},
   "outputs": [
    {
     "data": {
      "text/html": [
       "<div>\n",
       "<style scoped>\n",
       "    .dataframe tbody tr th:only-of-type {\n",
       "        vertical-align: middle;\n",
       "    }\n",
       "\n",
       "    .dataframe tbody tr th {\n",
       "        vertical-align: top;\n",
       "    }\n",
       "\n",
       "    .dataframe thead th {\n",
       "        text-align: right;\n",
       "    }\n",
       "</style>\n",
       "<table border=\"1\" class=\"dataframe\">\n",
       "  <thead>\n",
       "    <tr style=\"text-align: right;\">\n",
       "      <th></th>\n",
       "      <th>0</th>\n",
       "      <th>1</th>\n",
       "      <th>2</th>\n",
       "      <th>3</th>\n",
       "      <th>4</th>\n",
       "      <th>5</th>\n",
       "      <th>6</th>\n",
       "      <th>7</th>\n",
       "      <th>8</th>\n",
       "      <th>9</th>\n",
       "      <th>len</th>\n",
       "    </tr>\n",
       "  </thead>\n",
       "  <tbody>\n",
       "    <tr>\n",
       "      <th>0</th>\n",
       "      <td>798</td>\n",
       "      <td>994</td>\n",
       "      <td>1102</td>\n",
       "      <td>1387</td>\n",
       "      <td>1784</td>\n",
       "      <td>1883</td>\n",
       "      <td>1940</td>\n",
       "      <td>2007</td>\n",
       "      <td>2202</td>\n",
       "      <td>2250</td>\n",
       "      <td>20</td>\n",
       "    </tr>\n",
       "    <tr>\n",
       "      <th>1</th>\n",
       "      <td>132</td>\n",
       "      <td>223</td>\n",
       "      <td>323</td>\n",
       "      <td>469</td>\n",
       "      <td>478</td>\n",
       "      <td>515</td>\n",
       "      <td>535</td>\n",
       "      <td>595</td>\n",
       "      <td>631</td>\n",
       "      <td>708</td>\n",
       "      <td>91</td>\n",
       "    </tr>\n",
       "    <tr>\n",
       "      <th>2</th>\n",
       "      <td>101</td>\n",
       "      <td>247</td>\n",
       "      <td>453</td>\n",
       "      <td>537</td>\n",
       "      <td>609</td>\n",
       "      <td>645</td>\n",
       "      <td>712</td>\n",
       "      <td>747</td>\n",
       "      <td>808</td>\n",
       "      <td>835</td>\n",
       "      <td>116</td>\n",
       "    </tr>\n",
       "    <tr>\n",
       "      <th>3</th>\n",
       "      <td>131</td>\n",
       "      <td>385</td>\n",
       "      <td>491</td>\n",
       "      <td>514</td>\n",
       "      <td>589</td>\n",
       "      <td>654</td>\n",
       "      <td>745</td>\n",
       "      <td>805</td>\n",
       "      <td>888</td>\n",
       "      <td>900</td>\n",
       "      <td>111</td>\n",
       "    </tr>\n",
       "    <tr>\n",
       "      <th>4</th>\n",
       "      <td>534</td>\n",
       "      <td>1106</td>\n",
       "      <td>1138</td>\n",
       "      <td>1333</td>\n",
       "      <td>1343</td>\n",
       "      <td>1534</td>\n",
       "      <td>1694</td>\n",
       "      <td>1717</td>\n",
       "      <td>1992</td>\n",
       "      <td>2026</td>\n",
       "      <td>28</td>\n",
       "    </tr>\n",
       "    <tr>\n",
       "      <th>...</th>\n",
       "      <td>...</td>\n",
       "      <td>...</td>\n",
       "      <td>...</td>\n",
       "      <td>...</td>\n",
       "      <td>...</td>\n",
       "      <td>...</td>\n",
       "      <td>...</td>\n",
       "      <td>...</td>\n",
       "      <td>...</td>\n",
       "      <td>...</td>\n",
       "      <td>...</td>\n",
       "    </tr>\n",
       "    <tr>\n",
       "      <th>77893</th>\n",
       "      <td>242</td>\n",
       "      <td>604</td>\n",
       "      <td>613</td>\n",
       "      <td>737</td>\n",
       "      <td>968</td>\n",
       "      <td>1061</td>\n",
       "      <td>1175</td>\n",
       "      <td>1246</td>\n",
       "      <td>1260</td>\n",
       "      <td>1307</td>\n",
       "      <td>59</td>\n",
       "    </tr>\n",
       "    <tr>\n",
       "      <th>77894</th>\n",
       "      <td>64</td>\n",
       "      <td>213</td>\n",
       "      <td>230</td>\n",
       "      <td>330</td>\n",
       "      <td>380</td>\n",
       "      <td>418</td>\n",
       "      <td>633</td>\n",
       "      <td>642</td>\n",
       "      <td>679</td>\n",
       "      <td>696</td>\n",
       "      <td>119</td>\n",
       "    </tr>\n",
       "    <tr>\n",
       "      <th>77895</th>\n",
       "      <td>65</td>\n",
       "      <td>244</td>\n",
       "      <td>342</td>\n",
       "      <td>382</td>\n",
       "      <td>406</td>\n",
       "      <td>422</td>\n",
       "      <td>659</td>\n",
       "      <td>678</td>\n",
       "      <td>700</td>\n",
       "      <td>727</td>\n",
       "      <td>136</td>\n",
       "    </tr>\n",
       "    <tr>\n",
       "      <th>77896</th>\n",
       "      <td>340</td>\n",
       "      <td>587</td>\n",
       "      <td>686</td>\n",
       "      <td>776</td>\n",
       "      <td>937</td>\n",
       "      <td>1080</td>\n",
       "      <td>1210</td>\n",
       "      <td>1271</td>\n",
       "      <td>1329</td>\n",
       "      <td>1442</td>\n",
       "      <td>43</td>\n",
       "    </tr>\n",
       "    <tr>\n",
       "      <th>77897</th>\n",
       "      <td>270</td>\n",
       "      <td>602</td>\n",
       "      <td>750</td>\n",
       "      <td>795</td>\n",
       "      <td>959</td>\n",
       "      <td>1070</td>\n",
       "      <td>1237</td>\n",
       "      <td>1329</td>\n",
       "      <td>1473</td>\n",
       "      <td>1555</td>\n",
       "      <td>36</td>\n",
       "    </tr>\n",
       "  </tbody>\n",
       "</table>\n",
       "<p>68121 rows × 11 columns</p>\n",
       "</div>"
      ],
      "text/plain": [
       "         0     1     2     3     4     5     6     7     8     9  len\n",
       "0      798   994  1102  1387  1784  1883  1940  2007  2202  2250   20\n",
       "1      132   223   323   469   478   515   535   595   631   708   91\n",
       "2      101   247   453   537   609   645   712   747   808   835  116\n",
       "3      131   385   491   514   589   654   745   805   888   900  111\n",
       "4      534  1106  1138  1333  1343  1534  1694  1717  1992  2026   28\n",
       "...    ...   ...   ...   ...   ...   ...   ...   ...   ...   ...  ...\n",
       "77893  242   604   613   737   968  1061  1175  1246  1260  1307   59\n",
       "77894   64   213   230   330   380   418   633   642   679   696  119\n",
       "77895   65   244   342   382   406   422   659   678   700   727  136\n",
       "77896  340   587   686   776   937  1080  1210  1271  1329  1442   43\n",
       "77897  270   602   750   795   959  1070  1237  1329  1473  1555   36\n",
       "\n",
       "[68121 rows x 11 columns]"
      ]
     },
     "execution_count": 11,
     "metadata": {},
     "output_type": "execute_result"
    }
   ],
   "source": [
    "X_cut"
   ]
  },
  {
   "cell_type": "code",
   "execution_count": 13,
   "metadata": {},
   "outputs": [
    {
     "data": {
      "text/plain": [
       "<AxesSubplot:>"
      ]
     },
     "execution_count": 13,
     "metadata": {},
     "output_type": "execute_result"
    },
    {
     "data": {
      "image/png": "[encoded data removed]",
      "text/plain": [
       "<Figure size 432x288 with 1 Axes>"
      ]
     },
     "metadata": {
      "needs_background": "light"
     },
     "output_type": "display_data"
    }
   ],
   "source": [
    "X_cut[0].hist(bins='auto',alpha=0.5)\n",
    "X_cut[10].hist(bins='auto',alpha=0.5)\n",
    "X_cut[19].hist(bins='auto',alpha=0.5)"
   ]
  },
  {
   "cell_type": "code",
   "execution_count": 14,
   "metadata": {},
   "outputs": [
    {
     "data": {
      "text/plain": [
       "<AxesSubplot:>"
      ]
     },
     "execution_count": 14,
     "metadata": {},
     "output_type": "execute_result"
    },
    {
     "data": {
      "image/png": "[encoded data removed]",
      "text/plain": [
       "<Figure size 432x288 with 1 Axes>"
      ]
     },
     "metadata": {
      "needs_background": "light"
     },
     "output_type": "display_data"
    }
   ],
   "source": [
    "X_cut[0].hist(bins='auto',alpha=0.5)\n",
    "X_cut[9].hist(bins='auto',alpha=0.5)"
   ]
  },
  {
   "cell_type": "code",
   "execution_count": 15,
   "metadata": {},
   "outputs": [
    {
     "data": {
      "text/plain": [
       "<AxesSubplot:>"
      ]
     },
     "execution_count": 15,
     "metadata": {},
     "output_type": "execute_result"
    },
    {
     "data": {
      "image/png": "[encoded data removed]",
      "text/plain": [
       "<Figure size 432x288 with 1 Axes>"
      ]
     },
     "metadata": {
      "needs_background": "light"
     },
     "output_type": "display_data"
    }
   ],
   "source": [
    "X_cut['len'].hist(bins='auto',alpha=0.5)"
   ]
  },
  {
   "cell_type": "markdown",
   "metadata": {},
   "source": [
    "---"
   ]
  },
  {
   "cell_type": "markdown",
   "metadata": {},
   "source": [
    "### Test between XGBoost and RF (first 10 peaks)"
   ]
  },
  {
   "cell_type": "raw",
   "metadata": {},
   "source": [
    "train_set, test_set, train_labels, test_labels = train_test_split(X_cut, y_trunc, test_size = 0.10, random_state = 42, shuffle=True,stratify=y_trunc)\n",
    "train_set, val_set, train_labels, val_labels = train_test_split(train_set, train_labels, test_size = 0.20, random_state = 42, stratify = train_labels)"
   ]
  },
  {
   "cell_type": "code",
   "execution_count": 130,
   "metadata": {},
   "outputs": [
    {
     "name": "stdout",
     "output_type": "stream",
     "text": [
      "Mean F1: 0.68587, std (0.005) \n"
     ]
    }
   ],
   "source": [
    "#with the peak series lenght, not scaled\n",
    "from xgboost import XGBClassifier\n",
    "model = XGBClassifier()\n",
    "cv = RepeatedStratifiedKFold(n_splits=10, n_repeats=3, random_state=1)\n",
    "scores = cross_val_score(model, X_cut, y_trunc, scoring='f1_weighted', cv=cv, n_jobs=-1)\n",
    "print('Mean F1: %.5f, (std %.3f) ' % ( np.mean(scores), np.std(scores)))"
   ]
  },
  {
   "cell_type": "code",
   "execution_count": 132,
   "metadata": {},
   "outputs": [
    {
     "name": "stdout",
     "output_type": "stream",
     "text": [
      "Mean F1: 0.76829, (std 0.005) \n"
     ]
    }
   ],
   "source": [
    "from sklearn.ensemble import RandomForestClassifier\n",
    "model = RandomForestClassifier()\n",
    "cv = RepeatedStratifiedKFold(n_splits=10, n_repeats=3, random_state=1)\n",
    "scores = cross_val_score(model, X_cut, y_trunc, scoring='f1_weighted', cv=cv, n_jobs=-1)\n",
    "print('Mean F1: %.5f, (std %.3f) ' % ( np.mean(scores), np.std(scores)))"
   ]
  },
  {
   "cell_type": "code",
   "execution_count": 133,
   "metadata": {},
   "outputs": [],
   "source": [
    "scaler = preprocessing.MinMaxScaler()\n",
    "scaler.fit(X_cut)\n",
    "X_cut=scaler.transform(X_cut)"
   ]
  },
  {
   "cell_type": "code",
   "execution_count": 134,
   "metadata": {},
   "outputs": [
    {
     "name": "stdout",
     "output_type": "stream",
     "text": [
      "Mean F1: 0.68587, (std 0.005) \n"
     ]
    }
   ],
   "source": [
    "#with the peak series lenght, scaled\n",
    "model = XGBClassifier()\n",
    "cv = RepeatedStratifiedKFold(n_splits=10, n_repeats=3, random_state=1)\n",
    "scores = cross_val_score(model, X_cut, y_trunc, scoring='f1_weighted', cv=cv, n_jobs=-1)\n",
    "print('Mean F1: %.5f, (std %.3f) ' % ( np.mean(scores), np.std(scores)))"
   ]
  },
  {
   "cell_type": "code",
   "execution_count": 135,
   "metadata": {},
   "outputs": [
    {
     "name": "stdout",
     "output_type": "stream",
     "text": [
      "Mean F1: 0.76786, (std 0.006) \n"
     ]
    }
   ],
   "source": [
    "model = RandomForestClassifier()\n",
    "cv = RepeatedStratifiedKFold(n_splits=10, n_repeats=3, random_state=1)\n",
    "scores = cross_val_score(model, X_cut, y_trunc, scoring='f1_weighted', cv=cv, n_jobs=-1)\n",
    "print('Mean F1: %.5f, (std %.3f) ' % ( np.mean(scores), np.std(scores)))"
   ]
  },
  {
   "cell_type": "code",
   "execution_count": 136,
   "metadata": {},
   "outputs": [
    {
     "ename": "AttributeError",
     "evalue": "'numpy.ndarray' object has no attribute 'drop'",
     "output_type": "error",
     "traceback": [
      "\u001b[0;31m---------------------------------------------------------------------------\u001b[0m",
      "\u001b[0;31mAttributeError\u001b[0m                            Traceback (most recent call last)",
      "\u001b[0;32m<ipython-input-136-da75feb394db>\u001b[0m in \u001b[0;36m<module>\u001b[0;34m\u001b[0m\n\u001b[0;32m----> 1\u001b[0;31m \u001b[0mX_cut_nolen\u001b[0m\u001b[0;34m=\u001b[0m\u001b[0mX_cut\u001b[0m\u001b[0;34m.\u001b[0m\u001b[0mdrop\u001b[0m\u001b[0;34m(\u001b[0m\u001b[0;34m[\u001b[0m\u001b[0;34m'len'\u001b[0m\u001b[0;34m]\u001b[0m\u001b[0;34m,\u001b[0m \u001b[0maxis\u001b[0m\u001b[0;34m=\u001b[0m\u001b[0;36m1\u001b[0m\u001b[0;34m)\u001b[0m\u001b[0;34m\u001b[0m\u001b[0;34m\u001b[0m\u001b[0m\n\u001b[0m",
      "\u001b[0;31mAttributeError\u001b[0m: 'numpy.ndarray' object has no attribute 'drop'"
     ]
    }
   ],
   "source": [
    "X_cut_nolen=X_cut.drop(['len'], axis=1)"
   ]
  },
  {
   "cell_type": "code",
   "execution_count": 106,
   "metadata": {},
   "outputs": [
    {
     "name": "stdout",
     "output_type": "stream",
     "text": [
      "Mean F1: 0.65399\n"
     ]
    }
   ],
   "source": [
    "#without the peak series lenght\n",
    "model = XGBClassifier()\n",
    "cv = RepeatedStratifiedKFold(n_splits=10, n_repeats=3, random_state=1)\n",
    "scores = cross_val_score(model, X_cut_nolen, y_trunc, scoring='f1_weighted', cv=cv, n_jobs=-1)\n",
    "print('Mean F1: %.5f, (std %.3f) ' % ( np.mean(scores), np.std(scores)))"
   ]
  },
  {
   "cell_type": "code",
   "execution_count": 107,
   "metadata": {},
   "outputs": [
    {
     "name": "stdout",
     "output_type": "stream",
     "text": [
      "Mean F1: 0.75194\n"
     ]
    }
   ],
   "source": [
    "from sklearn.ensemble import RandomForestClassifier\n",
    "model = RandomForestClassifier()\n",
    "cv = RepeatedStratifiedKFold(n_splits=10, n_repeats=3, random_state=1)\n",
    "scores = cross_val_score(model, X_cut_nolen, y_trunc, scoring='f1_weighted', cv=cv, n_jobs=-1)\n",
    "print('Mean F1: %.5f, (std %.3f) ' % ( np.mean(scores), np.std(scores)))"
   ]
  },
  {
   "cell_type": "code",
   "execution_count": 116,
   "metadata": {},
   "outputs": [
    {
     "data": {
      "text/plain": [
       "<AxesSubplot:>"
      ]
     },
     "execution_count": 116,
     "metadata": {},
     "output_type": "execute_result"
    },
    {
     "data": {
      "image/png": "[encoded data removed]",
      "text/plain": [
       "<Figure size 432x288 with 1 Axes>"
      ]
     },
     "metadata": {
      "needs_background": "light"
     },
     "output_type": "display_data"
    }
   ],
   "source": [
    "scaler = preprocessing.MinMaxScaler()\n",
    "scaler.fit(X_cut_nolen)\n",
    "scaled=pd.DataFrame(scaler.transform(X_cut_nolen), columns=X_cut_nolen.columns)\n",
    "scaled[0].hist(bins='auto',alpha=0.5)\n",
    "scaled[9].hist(bins='auto',alpha=0.5)"
   ]
  },
  {
   "cell_type": "code",
   "execution_count": 117,
   "metadata": {},
   "outputs": [
    {
     "name": "stdout",
     "output_type": "stream",
     "text": [
      "Mean F1: 0.65404\n"
     ]
    }
   ],
   "source": [
    "#scaled, without len\n",
    "model = XGBClassifier()\n",
    "cv = RepeatedStratifiedKFold(n_splits=10, n_repeats=3, random_state=1)\n",
    "scores = cross_val_score(model, scaled, y_trunc, scoring='f1_weighted', cv=cv, n_jobs=-1)\n",
    "print('Mean F1: %.5f' % np.mean(scores))"
   ]
  },
  {
   "cell_type": "code",
   "execution_count": 118,
   "metadata": {},
   "outputs": [
    {
     "name": "stdout",
     "output_type": "stream",
     "text": [
      "Mean F1: 0.75200\n"
     ]
    }
   ],
   "source": [
    "model = RandomForestClassifier()\n",
    "cv = RepeatedStratifiedKFold(n_splits=10, n_repeats=3, random_state=1)\n",
    "scores = cross_val_score(model, X_cut_nolen, y_trunc, scoring='f1_weighted', cv=cv, n_jobs=-1)\n",
    "print('Mean F1: %.5f, std (%.3f) ' % np.mean(scores))"
   ]
  },
  {
   "cell_type": "markdown",
   "metadata": {},
   "source": [
    "---"
   ]
  },
  {
   "cell_type": "markdown",
   "metadata": {},
   "source": [
    "### Random Forest Test"
   ]
  },
  {
   "cell_type": "code",
   "execution_count": 12,
   "metadata": {},
   "outputs": [
    {
     "name": "stdout",
     "output_type": "stream",
     "text": [
      "64380\n",
      "64380\n"
     ]
    }
   ],
   "source": [
    "print(len(X_cut))\n",
    "print(len(y_trunc))"
   ]
  },
  {
   "cell_type": "code",
   "execution_count": 13,
   "metadata": {},
   "outputs": [
    {
     "name": "stdout",
     "output_type": "stream",
     "text": [
      "Mean F1: 0.75317, (std 0.005) \n"
     ]
    }
   ],
   "source": [
    "model = RandomForestClassifier()\n",
    "cv = RepeatedStratifiedKFold(n_splits=10, n_repeats=3, random_state=1)\n",
    "scores = cross_val_score(model, X_cut, y_trunc, scoring='f1_weighted', cv=cv, n_jobs=-1)\n",
    "print('Mean F1: %.5f, (std %.3f) ' % ( np.mean(scores), np.std(scores)))"
   ]
  },
  {
   "cell_type": "code",
   "execution_count": 142,
   "metadata": {},
   "outputs": [
    {
     "name": "stdout",
     "output_type": "stream",
     "text": [
      "Mean F1: 0.77207, (std 0.006) \n"
     ]
    }
   ],
   "source": [
    "model = RandomForestClassifier(n_estimators=500)\n",
    "cv = RepeatedStratifiedKFold(n_splits=10, n_repeats=3, random_state=1)\n",
    "scores = cross_val_score(model, X_cut, y_trunc, scoring='f1_weighted', cv=cv, n_jobs=-1)\n",
    "print('Mean F1: %.5f, (std %.3f) ' % ( np.mean(scores), np.std(scores)))"
   ]
  },
  {
   "cell_type": "code",
   "execution_count": 143,
   "metadata": {},
   "outputs": [
    {
     "name": "stdout",
     "output_type": "stream",
     "text": [
      "Mean F1: 0.77232, (std 0.006) \n"
     ]
    }
   ],
   "source": [
    "model = RandomForestClassifier(n_estimators=1000)\n",
    "cv = RepeatedStratifiedKFold(n_splits=10, n_repeats=3, random_state=1)\n",
    "scores = cross_val_score(model, X_cut, y_trunc, scoring='f1_weighted', cv=cv, n_jobs=-1)\n",
    "print('Mean F1: %.5f, (std %.3f) ' % ( np.mean(scores), np.std(scores)))"
   ]
  },
  {
   "cell_type": "code",
   "execution_count": 12,
   "metadata": {},
   "outputs": [
    {
     "name": "stdout",
     "output_type": "stream",
     "text": [
      "Mean F1: 0.73145, (std 0.005) \n"
     ]
    }
   ],
   "source": [
    "model = RandomForestClassifier()\n",
    "cv = RepeatedStratifiedKFold(n_splits=10, n_repeats=3, random_state=1)\n",
    "scores = cross_val_score(model, X_cut, y_trunc, scoring='f1_weighted', cv=cv, n_jobs=-1)\n",
    "print('Mean F1: %.5f, (std %.3f) ' % ( np.mean(scores), np.std(scores)))"
   ]
  },
  {
   "cell_type": "markdown",
   "metadata": {},
   "source": [
    "---"
   ]
  },
  {
   "cell_type": "markdown",
   "metadata": {},
   "source": [
    "### Deep learning test"
   ]
  },
  {
   "cell_type": "code",
   "execution_count": 29,
   "metadata": {},
   "outputs": [
    {
     "data": {
      "image/png": "[encoded data removed]",
      "text/plain": [
       "<Figure size 864x576 with 2 Axes>"
      ]
     },
     "metadata": {
      "needs_background": "light"
     },
     "output_type": "display_data"
    },
    {
     "name": "stdout",
     "output_type": "stream",
     "text": [
      "accuracy\n",
      "\ttraining         \t (min:    0.228, max:    0.721, cur:    0.718)\n",
      "\tvalidation       \t (min:    0.309, max:    0.719, cur:    0.710)\n",
      "Loss\n",
      "\ttraining         \t (min:    0.697, max:   22.742, cur:    0.703)\n",
      "\tvalidation       \t (min:    0.740, max:    1.703, cur:    0.748)\n",
      "f1 train: 0.760601044279391\n",
      "f1 test: 0.7120260076522165\n"
     ]
    }
   ],
   "source": [
    "from tensorflow.keras import regularizers\n",
    "from sklearn.linear_model import LogisticRegression\n",
    "from xgboost import XGBClassifier\n",
    "\n",
    "drop=0.1\n",
    "reg=0.01\n",
    "\n",
    "def create_model(X):\n",
    "    keras.backend.clear_session()\n",
    "    tf.random.set_seed(42)\n",
    "    np.random.seed(42)\n",
    "    model = tf.keras.Sequential([\n",
    "    tf.keras.layers.Dense(512, kernel_initializer='random_normal', input_shape=(X.shape[1],), activation=tf.nn.swish),\n",
    "    tf.keras.layers.Dropout(drop),\n",
    "    tf.keras.layers.Dense(512,kernel_initializer='random_normal', activation=tf.nn.swish),\n",
    "    tf.keras.layers.Dropout(drop),\n",
    "    tf.keras.layers.Dense(512,kernel_initializer='random_normal', activation=tf.nn.swish),\n",
    "    tf.keras.layers.Dropout(drop),\n",
    "    tf.keras.layers.Dense(512,kernel_initializer='random_normal', activation=tf.nn.swish),\n",
    "    tf.keras.layers.Dropout(drop),\n",
    "    tf.keras.layers.Dense(7, activation=tf.nn.softmax),\n",
    "    ])\n",
    "    optimizer = keras.optimizers.Adam()\n",
    "    model.compile(loss='sparse_categorical_crossentropy',\n",
    "                  optimizer=optimizer,\n",
    "                  metrics=[\"accuracy\"])\n",
    "    return model\n",
    "\n",
    "plotlosses = PlotLossesKerasTF()\n",
    "\n",
    "train_set, test_set, train_labels, test_labels = train_test_split(X_cut, y_trunc, test_size = 0.10, random_state = 42, shuffle=True,stratify=y_trunc)\n",
    "model = create_model(train_set)\n",
    "model.fit(train_set, train_labels, batch_size = 800, verbose = 0, epochs=100, validation_split=0.20, shuffle=True, callbacks=[plotlosses])\n",
    "\n",
    "y_pred_train = model.predict(train_set)\n",
    "y_pred_test = model.predict(test_set)\n",
    "f1_train_par=f1_score(train_labels,np.argmax(y_pred_train, axis=1), average='weighted')\n",
    "f1_test_par=f1_score(test_labels, np.argmax(y_pred_test, axis=1), average='weighted')\n",
    "print('f1 train:', f1_train_par)\n",
    "print('f1 test:', f1_test_par)\n",
    "#scores=model.evaluate(X_test_pca, y_test, verbose=0)\n",
    "#print(model.metrics_names)\n",
    "#print(scores)"
   ]
  },
  {
   "cell_type": "raw",
   "metadata": {},
   "source": [
    "f1 train: 0.7642740395535078\n",
    "f1 test: 0.7145406672354129"
   ]
  },
  {
   "cell_type": "code",
   "execution_count": 32,
   "metadata": {},
   "outputs": [
    {
     "data": {
      "image/png": "[encoded data removed]",
      "text/plain": [
       "<Figure size 864x576 with 2 Axes>"
      ]
     },
     "metadata": {
      "needs_background": "light"
     },
     "output_type": "display_data"
    },
    {
     "name": "stdout",
     "output_type": "stream",
     "text": [
      "accuracy\n",
      "\ttraining         \t (min:    0.234, max:    0.814, cur:    0.814)\n",
      "\tvalidation       \t (min:    0.363, max:    0.758, cur:    0.758)\n",
      "Loss\n",
      "\ttraining         \t (min:    0.468, max:   12.755, cur:    0.468)\n",
      "\tvalidation       \t (min:    0.721, max:    1.575, cur:    0.760)\n",
      "f1 train: 0.8699147894475696\n",
      "f1 test: 0.7520118948366369\n"
     ]
    }
   ],
   "source": [
    "from tensorflow.keras import regularizers\n",
    "from sklearn.linear_model import LogisticRegression\n",
    "from xgboost import XGBClassifier\n",
    "\n",
    "drop=0.1\n",
    "reg=0.01\n",
    "\n",
    "def create_model(X):\n",
    "    keras.backend.clear_session()\n",
    "    tf.random.set_seed(42)\n",
    "    np.random.seed(42)\n",
    "    model = tf.keras.Sequential([\n",
    "    tf.keras.layers.Dense(512, input_shape=(X.shape[1],), activation=tf.nn.swish),\n",
    "    tf.keras.layers.Dropout(drop),\n",
    "    tf.keras.layers.Dense(512, activation=tf.nn.swish),\n",
    "    tf.keras.layers.Dropout(drop),\n",
    "    tf.keras.layers.Dense(512, activation=tf.nn.swish),\n",
    "    tf.keras.layers.Dropout(drop),\n",
    "    tf.keras.layers.Dense(512, activation=tf.nn.swish),\n",
    "    tf.keras.layers.Dropout(drop),\n",
    "    tf.keras.layers.Dense(512, activation=tf.nn.swish),\n",
    "    tf.keras.layers.Dropout(drop),\n",
    "    tf.keras.layers.Dense(7, activation=tf.nn.softmax),\n",
    "    ])\n",
    "    optimizer = keras.optimizers.Adam()\n",
    "    model.compile(loss='sparse_categorical_crossentropy',\n",
    "                  optimizer=optimizer,\n",
    "                  metrics=[\"accuracy\"])\n",
    "    return model\n",
    "\n",
    "plotlosses = PlotLossesKerasTF()\n",
    "\n",
    "train_set, test_set, train_labels, test_labels = train_test_split(X_cut, y_trunc, test_size = 0.10, random_state = 42, shuffle=True,stratify=y_trunc)\n",
    "model = create_model(train_set)\n",
    "model.fit(train_set, train_labels, batch_size = 800, verbose = 0, epochs=200, validation_split=0.20, shuffle=True, callbacks=[plotlosses])\n",
    "\n",
    "y_pred_train = model.predict(train_set)\n",
    "y_pred_test = model.predict(test_set)\n",
    "f1_train_par=f1_score(train_labels,np.argmax(y_pred_train, axis=1), average='weighted')\n",
    "f1_test_par=f1_score(test_labels, np.argmax(y_pred_test, axis=1), average='weighted')\n",
    "print('f1 train:', f1_train_par)\n",
    "print('f1 test:', f1_test_par)\n",
    "#scores=model.evaluate(X_test_pca, y_test, verbose=0)\n",
    "#print(model.metrics_names)\n",
    "#print(scores)"
   ]
  },
  {
   "cell_type": "code",
   "execution_count": null,
   "metadata": {},
   "outputs": [],
   "source": []
  },
  {
   "cell_type": "code",
   "execution_count": null,
   "metadata": {},
   "outputs": [],
   "source": []
  }
 ],
 "metadata": {
  "kernelspec": {
   "display_name": "Python 3",
   "language": "python",
   "name": "python3"
  },
  "language_info": {
   "codemirror_mode": {
    "name": "ipython",
    "version": 3
   },
   "file_extension": ".py",
   "mimetype": "text/x-python",
   "name": "python",
   "nbconvert_exporter": "python",
   "pygments_lexer": "ipython3",
   "version": "3.7.7"
  }
 },
 "nbformat": 4,
 "nbformat_minor": 4
}
