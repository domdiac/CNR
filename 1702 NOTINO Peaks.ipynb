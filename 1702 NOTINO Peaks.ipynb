{
 "cells": [
  {
   "cell_type": "code",
   "execution_count": 1,
   "metadata": {},
   "outputs": [
    {
     "name": "stdout",
     "output_type": "stream",
     "text": [
      "[PhysicalDevice(name='/physical_device:GPU:0', device_type='GPU')]\n"
     ]
    }
   ],
   "source": [
    "import time\n",
    "start = time.time()\n",
    "import pandas as pd\n",
    "import numpy as np\n",
    "from sklearn.model_selection import train_test_split\n",
    "import tensorflow as tf\n",
    "import matplotlib.pyplot as plt\n",
    "keras = tf.keras\n",
    "from tensorflow.keras.utils import to_categorical\n",
    "from livelossplot import PlotLossesKerasTF\n",
    "import funzioni as fz\n",
    "import importlib\n",
    "from collections import Counter\n",
    "from tensorflow.keras.utils import to_categorical\n",
    "from imblearn.under_sampling import ClusterCentroids\n",
    "from imblearn.over_sampling import RandomOverSampler\n",
    "from imblearn.pipeline import Pipeline\n",
    "from imblearn.under_sampling import RandomUnderSampler\n",
    "from imblearn.datasets import make_imbalance\n",
    "from imblearn.under_sampling import NearMiss\n",
    "from imblearn.metrics import classification_report_imbalanced\n",
    "import pickle\n",
    "from tensorflow.keras.layers import Dense, Input, Conv1D, Dropout, MaxPooling1D, Flatten, concatenate, AveragePooling1D\n",
    "from tensorflow.keras.models import Model\n",
    "gpus = tf.config.experimental.list_physical_devices('GPU')\n",
    "from tensorflow.keras.utils import plot_model\n",
    "from sklearn import preprocessing\n",
    "from sklearn.decomposition import PCA\n",
    "from sklearn.pipeline import Pipeline\n",
    "from sklearn.neighbors import KNeighborsClassifier\n",
    "from sklearn.metrics import f1_score\n",
    "from scipy.signal import find_peaks\n",
    "from sklearn.ensemble import RandomForestClassifier\n",
    "\n",
    "\n",
    "print(gpus)\n",
    "if gpus:\n",
    "  # Restrict TensorFlow to only use the second GPU\n",
    "  try:\n",
    "    tf.config.experimental.set_visible_devices(gpus[0], 'GPU')\n",
    "    tf.config.experimental.set_memory_growth(gpus[0], True)\n",
    "  except RuntimeError as e:\n",
    "    # Visible devices must be set at program startup\n",
    "    print(e)\n",
    "\n",
    "\n",
    "from tensorflow.keras.layers import Conv1D, Activation, GlobalAveragePooling1D, MaxPooling1D, AveragePooling1D, Dropout, Dense, Lambda, Flatten\n",
    "from tensorflow.keras.models import Sequential\n",
    "from tensorflow.keras.regularizers import l2\n",
    "\n",
    "from sklearn.model_selection import StratifiedKFold\n",
    "from sklearn.model_selection import RepeatedStratifiedKFold\n",
    "from sklearn.model_selection import cross_val_score\n",
    "from sklearn.tree import DecisionTreeClassifier\n",
    "from tensorflow.keras.wrappers.scikit_learn import KerasClassifier\n",
    "\n",
    "def print_count(labels):\n",
    "    c=Counter(labels)\n",
    "    print(sorted(c.items()))\n",
    "    tot=sum(c.values())\n",
    "    for item in c.items():\n",
    "        print(item[0], round(item[1]/tot*100, 2), '%')"
   ]
  },
  {
   "cell_type": "code",
   "execution_count": 2,
   "metadata": {},
   "outputs": [
    {
     "name": "stdout",
     "output_type": "stream",
     "text": [
      "[(0, 50929), (1, 7090), (2, 165878), (3, 5873), (4, 1678), (5, 86064), (6, 1927)]\n",
      "0 15.94 %\n",
      "2 51.93 %\n",
      "5 26.94 %\n",
      "1 2.22 %\n",
      "3 1.84 %\n",
      "6 0.6 %\n",
      "4 0.53 %\n"
     ]
    }
   ],
   "source": [
    "#data loading\n",
    "#data=pd.read_pickle('/data1/Domenico/alldatatype.notino.pkl')\n",
    "data=pd.read_pickle('./data/alldatatype.notino.pkl')\n",
    "X=data.iloc[:,0:3250]\n",
    "y=data.iloc[:,3251:]\n",
    "y['class']=y.apply(np.argmax, axis=1)\n",
    "print_count(y['class'])\n",
    "y=y['class']"
   ]
  },
  {
   "cell_type": "raw",
   "metadata": {},
   "source": [
    "plt.plot(X.values[1])\n",
    "plt.show()"
   ]
  },
  {
   "cell_type": "code",
   "execution_count": 3,
   "metadata": {},
   "outputs": [
    {
     "name": "stdout",
     "output_type": "stream",
     "text": [
      "<class 'pandas.core.frame.DataFrame'>\n",
      "Int64Index: 319439 entries, 0 to 319440\n",
      "Data columns (total 1 columns):\n",
      " #   Column  Non-Null Count   Dtype \n",
      "---  ------  --------------   ----- \n",
      " 0   0       319439 non-null  object\n",
      "dtypes: object(1)\n",
      "memory usage: 4.9+ MB\n"
     ]
    }
   ],
   "source": [
    "#peaks dataframe (all peaks position)\n",
    "peaks=X.apply(find_peaks, axis=1).apply(lambda x:pd.Series(x))\n",
    "peaks=peaks.drop(1, axis=1)\n",
    "peaks.info()"
   ]
  },
  {
   "cell_type": "code",
   "execution_count": 4,
   "metadata": {},
   "outputs": [
    {
     "data": {
      "text/html": [
       "<div>\n",
       "<style scoped>\n",
       "    .dataframe tbody tr th:only-of-type {\n",
       "        vertical-align: middle;\n",
       "    }\n",
       "\n",
       "    .dataframe tbody tr th {\n",
       "        vertical-align: top;\n",
       "    }\n",
       "\n",
       "    .dataframe thead th {\n",
       "        text-align: right;\n",
       "    }\n",
       "</style>\n",
       "<table border=\"1\" class=\"dataframe\">\n",
       "  <thead>\n",
       "    <tr style=\"text-align: right;\">\n",
       "      <th></th>\n",
       "      <th>0</th>\n",
       "    </tr>\n",
       "  </thead>\n",
       "  <tbody>\n",
       "    <tr>\n",
       "      <th>0</th>\n",
       "      <td>[316, 401, 461, 561, 615, 825, 886, 919, 1022,...</td>\n",
       "    </tr>\n",
       "    <tr>\n",
       "      <th>1</th>\n",
       "      <td>[177, 262, 311, 355, 400, 453, 510, 542, 574, ...</td>\n",
       "    </tr>\n",
       "    <tr>\n",
       "      <th>2</th>\n",
       "      <td>[94, 117, 169, 211, 324, 363, 389, 440, 449, 4...</td>\n",
       "    </tr>\n",
       "    <tr>\n",
       "      <th>3</th>\n",
       "      <td>[2, 102, 164, 181, 211, 229, 241, 255, 286, 33...</td>\n",
       "    </tr>\n",
       "    <tr>\n",
       "      <th>4</th>\n",
       "      <td>[218, 303, 324, 397, 547, 612, 632, 673, 688, ...</td>\n",
       "    </tr>\n",
       "    <tr>\n",
       "      <th>...</th>\n",
       "      <td>...</td>\n",
       "    </tr>\n",
       "    <tr>\n",
       "      <th>319436</th>\n",
       "      <td>[27, 146, 304, 317, 372, 381, 448, 481, 519, 5...</td>\n",
       "    </tr>\n",
       "    <tr>\n",
       "      <th>319437</th>\n",
       "      <td>[15, 281, 340, 363, 393, 411, 428, 497, 539, 5...</td>\n",
       "    </tr>\n",
       "    <tr>\n",
       "      <th>319438</th>\n",
       "      <td>[22, 129, 140, 184, 193, 232, 252, 287, 294, 3...</td>\n",
       "    </tr>\n",
       "    <tr>\n",
       "      <th>319439</th>\n",
       "      <td>[73, 105, 235, 298, 319, 334, 348, 382, 391, 4...</td>\n",
       "    </tr>\n",
       "    <tr>\n",
       "      <th>319440</th>\n",
       "      <td>[42, 152, 223, 271, 335, 426, 494, 556, 579, 6...</td>\n",
       "    </tr>\n",
       "  </tbody>\n",
       "</table>\n",
       "<p>319439 rows × 1 columns</p>\n",
       "</div>"
      ],
      "text/plain": [
       "                                                        0\n",
       "0       [316, 401, 461, 561, 615, 825, 886, 919, 1022,...\n",
       "1       [177, 262, 311, 355, 400, 453, 510, 542, 574, ...\n",
       "2       [94, 117, 169, 211, 324, 363, 389, 440, 449, 4...\n",
       "3       [2, 102, 164, 181, 211, 229, 241, 255, 286, 33...\n",
       "4       [218, 303, 324, 397, 547, 612, 632, 673, 688, ...\n",
       "...                                                   ...\n",
       "319436  [27, 146, 304, 317, 372, 381, 448, 481, 519, 5...\n",
       "319437  [15, 281, 340, 363, 393, 411, 428, 497, 539, 5...\n",
       "319438  [22, 129, 140, 184, 193, 232, 252, 287, 294, 3...\n",
       "319439  [73, 105, 235, 298, 319, 334, 348, 382, 391, 4...\n",
       "319440  [42, 152, 223, 271, 335, 426, 494, 556, 579, 6...\n",
       "\n",
       "[319439 rows x 1 columns]"
      ]
     },
     "execution_count": 4,
     "metadata": {},
     "output_type": "execute_result"
    }
   ],
   "source": [
    "peaks"
   ]
  },
  {
   "cell_type": "code",
   "execution_count": 5,
   "metadata": {},
   "outputs": [],
   "source": [
    "#transform into series\n",
    "peaks_series = peaks.squeeze()"
   ]
  },
  {
   "cell_type": "raw",
   "metadata": {},
   "source": [
    "lenghts=[]\n",
    "for item in peaks_series:\n",
    "    ll=len(item)\n",
    "    #print(len(item))\n",
    "    lenghts.append(ll)"
   ]
  },
  {
   "cell_type": "raw",
   "metadata": {},
   "source": [
    "print(set(lenghts))"
   ]
  },
  {
   "cell_type": "raw",
   "metadata": {},
   "source": [
    "plt.hist(lenghts, bins='auto')"
   ]
  },
  {
   "cell_type": "code",
   "execution_count": 6,
   "metadata": {},
   "outputs": [],
   "source": [
    "#flag the rows that don't have enough peaks\n",
    "cut=10\n",
    "\n",
    "def truncate(x):\n",
    "    if len(x)>cut+1:\n",
    "        return x[0:cut], int(len(x))\n",
    "    else:\n",
    "        return 'toberemoved'\n",
    "\n",
    "peaks_series_trunc=peaks_series.apply(truncate)"
   ]
  },
  {
   "cell_type": "code",
   "execution_count": 7,
   "metadata": {},
   "outputs": [
    {
     "name": "stdout",
     "output_type": "stream",
     "text": [
      "73\n"
     ]
    }
   ],
   "source": [
    "#Get the indexes of flagged rows\n",
    "drop_indexes=peaks_series_trunc[peaks_series_trunc == 'toberemoved'].index\n",
    "#print(drop_indexes)\n",
    "#drop the rows and the corresponding labels\n",
    "peaks_series_trunc=peaks_series_trunc.drop(drop_indexes)\n",
    "print(len(drop_indexes))\n",
    "y_trunc=y.drop(drop_indexes)"
   ]
  },
  {
   "cell_type": "code",
   "execution_count": 8,
   "metadata": {},
   "outputs": [],
   "source": [
    "X_peaks=pd.DataFrame.from_dict(dict(zip(peaks_series_trunc.index, peaks_series_trunc.values))).T\n",
    "X_peaks.columns=['peaks','len']"
   ]
  },
  {
   "cell_type": "code",
   "execution_count": 9,
   "metadata": {},
   "outputs": [],
   "source": [
    "X_cut = pd.concat([X_peaks.peaks.apply(pd.Series), X_peaks.len], axis=1)"
   ]
  },
  {
   "cell_type": "code",
   "execution_count": 10,
   "metadata": {},
   "outputs": [],
   "source": [
    "X_cut.len=X_cut.len.astype('int64')"
   ]
  },
  {
   "cell_type": "code",
   "execution_count": 11,
   "metadata": {},
   "outputs": [
    {
     "data": {
      "text/html": [
       "<div>\n",
       "<style scoped>\n",
       "    .dataframe tbody tr th:only-of-type {\n",
       "        vertical-align: middle;\n",
       "    }\n",
       "\n",
       "    .dataframe tbody tr th {\n",
       "        vertical-align: top;\n",
       "    }\n",
       "\n",
       "    .dataframe thead th {\n",
       "        text-align: right;\n",
       "    }\n",
       "</style>\n",
       "<table border=\"1\" class=\"dataframe\">\n",
       "  <thead>\n",
       "    <tr style=\"text-align: right;\">\n",
       "      <th></th>\n",
       "      <th>0</th>\n",
       "      <th>1</th>\n",
       "      <th>2</th>\n",
       "      <th>3</th>\n",
       "      <th>4</th>\n",
       "      <th>5</th>\n",
       "      <th>6</th>\n",
       "      <th>7</th>\n",
       "      <th>8</th>\n",
       "      <th>9</th>\n",
       "      <th>len</th>\n",
       "    </tr>\n",
       "  </thead>\n",
       "  <tbody>\n",
       "    <tr>\n",
       "      <th>0</th>\n",
       "      <td>316</td>\n",
       "      <td>401</td>\n",
       "      <td>461</td>\n",
       "      <td>561</td>\n",
       "      <td>615</td>\n",
       "      <td>825</td>\n",
       "      <td>886</td>\n",
       "      <td>919</td>\n",
       "      <td>1022</td>\n",
       "      <td>1066</td>\n",
       "      <td>72</td>\n",
       "    </tr>\n",
       "    <tr>\n",
       "      <th>1</th>\n",
       "      <td>177</td>\n",
       "      <td>262</td>\n",
       "      <td>311</td>\n",
       "      <td>355</td>\n",
       "      <td>400</td>\n",
       "      <td>453</td>\n",
       "      <td>510</td>\n",
       "      <td>542</td>\n",
       "      <td>574</td>\n",
       "      <td>608</td>\n",
       "      <td>201</td>\n",
       "    </tr>\n",
       "    <tr>\n",
       "      <th>2</th>\n",
       "      <td>94</td>\n",
       "      <td>117</td>\n",
       "      <td>169</td>\n",
       "      <td>211</td>\n",
       "      <td>324</td>\n",
       "      <td>363</td>\n",
       "      <td>389</td>\n",
       "      <td>440</td>\n",
       "      <td>449</td>\n",
       "      <td>473</td>\n",
       "      <td>226</td>\n",
       "    </tr>\n",
       "    <tr>\n",
       "      <th>3</th>\n",
       "      <td>2</td>\n",
       "      <td>102</td>\n",
       "      <td>164</td>\n",
       "      <td>181</td>\n",
       "      <td>211</td>\n",
       "      <td>229</td>\n",
       "      <td>241</td>\n",
       "      <td>255</td>\n",
       "      <td>286</td>\n",
       "      <td>331</td>\n",
       "      <td>223</td>\n",
       "    </tr>\n",
       "    <tr>\n",
       "      <th>4</th>\n",
       "      <td>218</td>\n",
       "      <td>303</td>\n",
       "      <td>324</td>\n",
       "      <td>397</td>\n",
       "      <td>547</td>\n",
       "      <td>612</td>\n",
       "      <td>632</td>\n",
       "      <td>673</td>\n",
       "      <td>688</td>\n",
       "      <td>753</td>\n",
       "      <td>183</td>\n",
       "    </tr>\n",
       "    <tr>\n",
       "      <th>...</th>\n",
       "      <td>...</td>\n",
       "      <td>...</td>\n",
       "      <td>...</td>\n",
       "      <td>...</td>\n",
       "      <td>...</td>\n",
       "      <td>...</td>\n",
       "      <td>...</td>\n",
       "      <td>...</td>\n",
       "      <td>...</td>\n",
       "      <td>...</td>\n",
       "      <td>...</td>\n",
       "    </tr>\n",
       "    <tr>\n",
       "      <th>319436</th>\n",
       "      <td>27</td>\n",
       "      <td>146</td>\n",
       "      <td>304</td>\n",
       "      <td>317</td>\n",
       "      <td>372</td>\n",
       "      <td>381</td>\n",
       "      <td>448</td>\n",
       "      <td>481</td>\n",
       "      <td>519</td>\n",
       "      <td>547</td>\n",
       "      <td>201</td>\n",
       "    </tr>\n",
       "    <tr>\n",
       "      <th>319437</th>\n",
       "      <td>15</td>\n",
       "      <td>281</td>\n",
       "      <td>340</td>\n",
       "      <td>363</td>\n",
       "      <td>393</td>\n",
       "      <td>411</td>\n",
       "      <td>428</td>\n",
       "      <td>497</td>\n",
       "      <td>539</td>\n",
       "      <td>549</td>\n",
       "      <td>201</td>\n",
       "    </tr>\n",
       "    <tr>\n",
       "      <th>319438</th>\n",
       "      <td>22</td>\n",
       "      <td>129</td>\n",
       "      <td>140</td>\n",
       "      <td>184</td>\n",
       "      <td>193</td>\n",
       "      <td>232</td>\n",
       "      <td>252</td>\n",
       "      <td>287</td>\n",
       "      <td>294</td>\n",
       "      <td>310</td>\n",
       "      <td>255</td>\n",
       "    </tr>\n",
       "    <tr>\n",
       "      <th>319439</th>\n",
       "      <td>73</td>\n",
       "      <td>105</td>\n",
       "      <td>235</td>\n",
       "      <td>298</td>\n",
       "      <td>319</td>\n",
       "      <td>334</td>\n",
       "      <td>348</td>\n",
       "      <td>382</td>\n",
       "      <td>391</td>\n",
       "      <td>445</td>\n",
       "      <td>239</td>\n",
       "    </tr>\n",
       "    <tr>\n",
       "      <th>319440</th>\n",
       "      <td>42</td>\n",
       "      <td>152</td>\n",
       "      <td>223</td>\n",
       "      <td>271</td>\n",
       "      <td>335</td>\n",
       "      <td>426</td>\n",
       "      <td>494</td>\n",
       "      <td>556</td>\n",
       "      <td>579</td>\n",
       "      <td>629</td>\n",
       "      <td>206</td>\n",
       "    </tr>\n",
       "  </tbody>\n",
       "</table>\n",
       "<p>319366 rows × 11 columns</p>\n",
       "</div>"
      ],
      "text/plain": [
       "          0    1    2    3    4    5    6    7     8     9  len\n",
       "0       316  401  461  561  615  825  886  919  1022  1066   72\n",
       "1       177  262  311  355  400  453  510  542   574   608  201\n",
       "2        94  117  169  211  324  363  389  440   449   473  226\n",
       "3         2  102  164  181  211  229  241  255   286   331  223\n",
       "4       218  303  324  397  547  612  632  673   688   753  183\n",
       "...     ...  ...  ...  ...  ...  ...  ...  ...   ...   ...  ...\n",
       "319436   27  146  304  317  372  381  448  481   519   547  201\n",
       "319437   15  281  340  363  393  411  428  497   539   549  201\n",
       "319438   22  129  140  184  193  232  252  287   294   310  255\n",
       "319439   73  105  235  298  319  334  348  382   391   445  239\n",
       "319440   42  152  223  271  335  426  494  556   579   629  206\n",
       "\n",
       "[319366 rows x 11 columns]"
      ]
     },
     "execution_count": 11,
     "metadata": {},
     "output_type": "execute_result"
    }
   ],
   "source": [
    "X_cut"
   ]
  },
  {
   "cell_type": "raw",
   "metadata": {},
   "source": [
    "X_cut[0].hist(bins='auto',alpha=0.5)\n",
    "X_cut[10].hist(bins='auto',alpha=0.5)\n",
    "X_cut[19].hist(bins='auto',alpha=0.5)"
   ]
  },
  {
   "cell_type": "code",
   "execution_count": 12,
   "metadata": {},
   "outputs": [
    {
     "data": {
      "text/plain": [
       "<AxesSubplot:>"
      ]
     },
     "execution_count": 12,
     "metadata": {},
     "output_type": "execute_result"
    },
    {
     "data": {
      "image/png": "[encoded data removed]",
      "text/plain": [
       "<Figure size 432x288 with 1 Axes>"
      ]
     },
     "metadata": {
      "needs_background": "light"
     },
     "output_type": "display_data"
    }
   ],
   "source": [
    "X_cut[0].hist(bins='auto',alpha=0.5)\n",
    "X_cut[9].hist(bins='auto',alpha=0.5)"
   ]
  },
  {
   "cell_type": "code",
   "execution_count": 13,
   "metadata": {},
   "outputs": [
    {
     "data": {
      "text/plain": [
       "<AxesSubplot:>"
      ]
     },
     "execution_count": 13,
     "metadata": {},
     "output_type": "execute_result"
    },
    {
     "data": {
      "image/png": "[encoded data removed]",
      "text/plain": [
       "<Figure size 432x288 with 1 Axes>"
      ]
     },
     "metadata": {
      "needs_background": "light"
     },
     "output_type": "display_data"
    }
   ],
   "source": [
    "X_cut['len'].hist(bins='auto',alpha=0.5)"
   ]
  },
  {
   "cell_type": "markdown",
   "metadata": {},
   "source": [
    "---"
   ]
  },
  {
   "cell_type": "markdown",
   "metadata": {},
   "source": [
    "### Test between XGBoost and RF (first 10 peaks)"
   ]
  },
  {
   "cell_type": "raw",
   "metadata": {},
   "source": [
    "train_set, test_set, train_labels, test_labels = train_test_split(X_cut, y_trunc, test_size = 0.10, random_state = 42, shuffle=True,stratify=y_trunc)\n",
    "train_set, val_set, train_labels, val_labels = train_test_split(train_set, train_labels, test_size = 0.20, random_state = 42, stratify = train_labels)"
   ]
  },
  {
   "cell_type": "code",
   "execution_count": 130,
   "metadata": {},
   "outputs": [
    {
     "name": "stdout",
     "output_type": "stream",
     "text": [
      "Mean F1: 0.68587, std (0.005) \n"
     ]
    }
   ],
   "source": [
    "#with the peak series lenght, not scaled\n",
    "from xgboost import XGBClassifier\n",
    "model = XGBClassifier()\n",
    "cv = RepeatedStratifiedKFold(n_splits=10, n_repeats=3, random_state=1)\n",
    "scores = cross_val_score(model, X_cut, y_trunc, scoring='f1_weighted', cv=cv, n_jobs=-1)\n",
    "print('Mean F1: %.5f, (std %.3f) ' % ( np.mean(scores), np.std(scores)))"
   ]
  },
  {
   "cell_type": "code",
   "execution_count": 132,
   "metadata": {},
   "outputs": [
    {
     "name": "stdout",
     "output_type": "stream",
     "text": [
      "Mean F1: 0.76829, (std 0.005) \n"
     ]
    }
   ],
   "source": [
    "from sklearn.ensemble import RandomForestClassifier\n",
    "model = RandomForestClassifier()\n",
    "cv = RepeatedStratifiedKFold(n_splits=10, n_repeats=3, random_state=1)\n",
    "scores = cross_val_score(model, X_cut, y_trunc, scoring='f1_weighted', cv=cv, n_jobs=-1)\n",
    "print('Mean F1: %.5f, (std %.3f) ' % ( np.mean(scores), np.std(scores)))"
   ]
  },
  {
   "cell_type": "code",
   "execution_count": 133,
   "metadata": {},
   "outputs": [],
   "source": [
    "scaler = preprocessing.MinMaxScaler()\n",
    "scaler.fit(X_cut)\n",
    "X_cut=scaler.transform(X_cut)"
   ]
  },
  {
   "cell_type": "code",
   "execution_count": 134,
   "metadata": {},
   "outputs": [
    {
     "name": "stdout",
     "output_type": "stream",
     "text": [
      "Mean F1: 0.68587, (std 0.005) \n"
     ]
    }
   ],
   "source": [
    "#with the peak series lenght, scaled\n",
    "model = XGBClassifier()\n",
    "cv = RepeatedStratifiedKFold(n_splits=10, n_repeats=3, random_state=1)\n",
    "scores = cross_val_score(model, X_cut, y_trunc, scoring='f1_weighted', cv=cv, n_jobs=-1)\n",
    "print('Mean F1: %.5f, (std %.3f) ' % ( np.mean(scores), np.std(scores)))"
   ]
  },
  {
   "cell_type": "code",
   "execution_count": 135,
   "metadata": {},
   "outputs": [
    {
     "name": "stdout",
     "output_type": "stream",
     "text": [
      "Mean F1: 0.76786, (std 0.006) \n"
     ]
    }
   ],
   "source": [
    "model = RandomForestClassifier()\n",
    "cv = RepeatedStratifiedKFold(n_splits=10, n_repeats=3, random_state=1)\n",
    "scores = cross_val_score(model, X_cut, y_trunc, scoring='f1_weighted', cv=cv, n_jobs=-1)\n",
    "print('Mean F1: %.5f, (std %.3f) ' % ( np.mean(scores), np.std(scores)))"
   ]
  },
  {
   "cell_type": "code",
   "execution_count": 136,
   "metadata": {},
   "outputs": [
    {
     "ename": "AttributeError",
     "evalue": "'numpy.ndarray' object has no attribute 'drop'",
     "output_type": "error",
     "traceback": [
      "\u001b[0;31m---------------------------------------------------------------------------\u001b[0m",
      "\u001b[0;31mAttributeError\u001b[0m                            Traceback (most recent call last)",
      "\u001b[0;32m<ipython-input-136-da75feb394db>\u001b[0m in \u001b[0;36m<module>\u001b[0;34m\u001b[0m\n\u001b[0;32m----> 1\u001b[0;31m \u001b[0mX_cut_nolen\u001b[0m\u001b[0;34m=\u001b[0m\u001b[0mX_cut\u001b[0m\u001b[0;34m.\u001b[0m\u001b[0mdrop\u001b[0m\u001b[0;34m(\u001b[0m\u001b[0;34m[\u001b[0m\u001b[0;34m'len'\u001b[0m\u001b[0;34m]\u001b[0m\u001b[0;34m,\u001b[0m \u001b[0maxis\u001b[0m\u001b[0;34m=\u001b[0m\u001b[0;36m1\u001b[0m\u001b[0;34m)\u001b[0m\u001b[0;34m\u001b[0m\u001b[0;34m\u001b[0m\u001b[0m\n\u001b[0m",
      "\u001b[0;31mAttributeError\u001b[0m: 'numpy.ndarray' object has no attribute 'drop'"
     ]
    }
   ],
   "source": [
    "X_cut_nolen=X_cut.drop(['len'], axis=1)"
   ]
  },
  {
   "cell_type": "code",
   "execution_count": 106,
   "metadata": {},
   "outputs": [
    {
     "name": "stdout",
     "output_type": "stream",
     "text": [
      "Mean F1: 0.65399\n"
     ]
    }
   ],
   "source": [
    "#without the peak series lenght\n",
    "model = XGBClassifier()\n",
    "cv = RepeatedStratifiedKFold(n_splits=10, n_repeats=3, random_state=1)\n",
    "scores = cross_val_score(model, X_cut_nolen, y_trunc, scoring='f1_weighted', cv=cv, n_jobs=-1)\n",
    "print('Mean F1: %.5f, (std %.3f) ' % ( np.mean(scores), np.std(scores)))"
   ]
  },
  {
   "cell_type": "code",
   "execution_count": 107,
   "metadata": {},
   "outputs": [
    {
     "name": "stdout",
     "output_type": "stream",
     "text": [
      "Mean F1: 0.75194\n"
     ]
    }
   ],
   "source": [
    "from sklearn.ensemble import RandomForestClassifier\n",
    "model = RandomForestClassifier()\n",
    "cv = RepeatedStratifiedKFold(n_splits=10, n_repeats=3, random_state=1)\n",
    "scores = cross_val_score(model, X_cut_nolen, y_trunc, scoring='f1_weighted', cv=cv, n_jobs=-1)\n",
    "print('Mean F1: %.5f, (std %.3f) ' % ( np.mean(scores), np.std(scores)))"
   ]
  },
  {
   "cell_type": "code",
   "execution_count": 116,
   "metadata": {},
   "outputs": [
    {
     "data": {
      "text/plain": [
       "<AxesSubplot:>"
      ]
     },
     "execution_count": 116,
     "metadata": {},
     "output_type": "execute_result"
    },
    {
     "data": {
      "image/png": "[encoded data removed]",
      "text/plain": [
       "<Figure size 432x288 with 1 Axes>"
      ]
     },
     "metadata": {
      "needs_background": "light"
     },
     "output_type": "display_data"
    }
   ],
   "source": [
    "scaler = preprocessing.MinMaxScaler()\n",
    "scaler.fit(X_cut_nolen)\n",
    "scaled=pd.DataFrame(scaler.transform(X_cut_nolen), columns=X_cut_nolen.columns)\n",
    "scaled[0].hist(bins='auto',alpha=0.5)\n",
    "scaled[9].hist(bins='auto',alpha=0.5)"
   ]
  },
  {
   "cell_type": "code",
   "execution_count": 117,
   "metadata": {},
   "outputs": [
    {
     "name": "stdout",
     "output_type": "stream",
     "text": [
      "Mean F1: 0.65404\n"
     ]
    }
   ],
   "source": [
    "#scaled, without len\n",
    "model = XGBClassifier()\n",
    "cv = RepeatedStratifiedKFold(n_splits=10, n_repeats=3, random_state=1)\n",
    "scores = cross_val_score(model, scaled, y_trunc, scoring='f1_weighted', cv=cv, n_jobs=-1)\n",
    "print('Mean F1: %.5f' % np.mean(scores))"
   ]
  },
  {
   "cell_type": "code",
   "execution_count": 118,
   "metadata": {},
   "outputs": [
    {
     "name": "stdout",
     "output_type": "stream",
     "text": [
      "Mean F1: 0.75200\n"
     ]
    }
   ],
   "source": [
    "model = RandomForestClassifier()\n",
    "cv = RepeatedStratifiedKFold(n_splits=10, n_repeats=3, random_state=1)\n",
    "scores = cross_val_score(model, X_cut_nolen, y_trunc, scoring='f1_weighted', cv=cv, n_jobs=-1)\n",
    "print('Mean F1: %.5f, std (%.3f) ' % np.mean(scores))"
   ]
  },
  {
   "cell_type": "markdown",
   "metadata": {},
   "source": [
    "---"
   ]
  },
  {
   "cell_type": "markdown",
   "metadata": {},
   "source": [
    "### Random Forest Test"
   ]
  },
  {
   "cell_type": "code",
   "execution_count": 14,
   "metadata": {},
   "outputs": [
    {
     "name": "stdout",
     "output_type": "stream",
     "text": [
      "319366\n",
      "319366\n"
     ]
    }
   ],
   "source": [
    "print(len(X_cut))\n",
    "print(len(y_trunc))"
   ]
  },
  {
   "cell_type": "code",
   "execution_count": 15,
   "metadata": {},
   "outputs": [
    {
     "name": "stdout",
     "output_type": "stream",
     "text": [
      "Mean F1: 0.57015, (std 0.002) \n"
     ]
    }
   ],
   "source": [
    "model = RandomForestClassifier()\n",
    "cv = RepeatedStratifiedKFold(n_splits=10, n_repeats=3, random_state=1)\n",
    "scores = cross_val_score(model, X_cut, y_trunc, scoring='f1_weighted', cv=cv, n_jobs=-1)\n",
    "print('Mean F1: %.5f, (std %.3f) ' % ( np.mean(scores), np.std(scores)))"
   ]
  },
  {
   "cell_type": "code",
   "execution_count": 16,
   "metadata": {},
   "outputs": [
    {
     "name": "stdout",
     "output_type": "stream",
     "text": [
      "Mean F1: 0.57246, (std 0.002) \n"
     ]
    }
   ],
   "source": [
    "model = RandomForestClassifier(n_estimators=500)\n",
    "cv = RepeatedStratifiedKFold(n_splits=10, n_repeats=3, random_state=1)\n",
    "scores = cross_val_score(model, X_cut, y_trunc, scoring='f1_weighted', cv=cv, n_jobs=-1)\n",
    "print('Mean F1: %.5f, (std %.3f) ' % ( np.mean(scores), np.std(scores)))"
   ]
  },
  {
   "cell_type": "markdown",
   "metadata": {},
   "source": [
    "---"
   ]
  },
  {
   "cell_type": "markdown",
   "metadata": {},
   "source": [
    "### Deep learning test"
   ]
  },
  {
   "cell_type": "raw",
   "metadata": {},
   "source": [
    "f1 train: 0.7642740395535078\n",
    "f1 test: 0.7145406672354129"
   ]
  },
  {
   "cell_type": "code",
   "execution_count": 18,
   "metadata": {},
   "outputs": [
    {
     "data": {
      "image/png": "[encoded data removed]",
      "text/plain": [
       "<Figure size 864x576 with 2 Axes>"
      ]
     },
     "metadata": {
      "needs_background": "light"
     },
     "output_type": "display_data"
    },
    {
     "name": "stdout",
     "output_type": "stream",
     "text": [
      "accuracy\n",
      "\ttraining         \t (min:    0.495, max:    0.616, cur:    0.616)\n",
      "\tvalidation       \t (min:    0.519, max:    0.612, cur:    0.604)\n",
      "Loss\n",
      "\ttraining         \t (min:    0.855, max:    2.154, cur:    0.858)\n",
      "\tvalidation       \t (min:    0.885, max:    1.126, cur:    0.899)\n",
      "f1 train: 0.629850009360438\n",
      "f1 test: 0.5760426468005332\n"
     ]
    }
   ],
   "source": [
    "drop=0.1\n",
    "reg=0.01\n",
    "\n",
    "def create_model(X):\n",
    "    keras.backend.clear_session()\n",
    "    tf.random.set_seed(42)\n",
    "    np.random.seed(42)\n",
    "    model = tf.keras.Sequential([\n",
    "    tf.keras.layers.Dense(512, input_shape=(X.shape[1],), activation=tf.nn.swish),\n",
    "    tf.keras.layers.Dropout(drop),\n",
    "    tf.keras.layers.Dense(512, activation=tf.nn.swish),\n",
    "    tf.keras.layers.Dropout(drop),\n",
    "    tf.keras.layers.Dense(512, activation=tf.nn.swish),\n",
    "    tf.keras.layers.Dropout(drop),\n",
    "    tf.keras.layers.Dense(512, activation=tf.nn.swish),\n",
    "    tf.keras.layers.Dropout(drop),\n",
    "    tf.keras.layers.Dense(512, activation=tf.nn.swish),\n",
    "    tf.keras.layers.Dropout(drop),\n",
    "    tf.keras.layers.Dense(7, activation=tf.nn.softmax),\n",
    "    ])\n",
    "    optimizer = keras.optimizers.Adam()\n",
    "    model.compile(loss='sparse_categorical_crossentropy',\n",
    "                  optimizer=optimizer,\n",
    "                  metrics=[\"accuracy\"])\n",
    "    return model\n",
    "\n",
    "plotlosses = PlotLossesKerasTF()\n",
    "\n",
    "train_set, test_set, train_labels, test_labels = train_test_split(X_cut, y_trunc, test_size = 0.10, random_state = 42, shuffle=True,stratify=y_trunc)\n",
    "model = create_model(train_set)\n",
    "model.fit(train_set, train_labels, batch_size = 800, verbose = 0, epochs=200, validation_split=0.20, shuffle=True, callbacks=[plotlosses])\n",
    "\n",
    "y_pred_train = model.predict(train_set)\n",
    "y_pred_test = model.predict(test_set)\n",
    "f1_train_par=f1_score(train_labels,np.argmax(y_pred_train, axis=1), average='weighted')\n",
    "f1_test_par=f1_score(test_labels, np.argmax(y_pred_test, axis=1), average='weighted')\n",
    "print('f1 train:', f1_train_par)\n",
    "print('f1 test:', f1_test_par)\n",
    "#scores=model.evaluate(X_test_pca, y_test, verbose=0)\n",
    "#print(model.metrics_names)\n",
    "#print(scores)"
   ]
  },
  {
   "cell_type": "code",
   "execution_count": null,
   "metadata": {},
   "outputs": [],
   "source": []
  },
  {
   "cell_type": "code",
   "execution_count": null,
   "metadata": {},
   "outputs": [],
   "source": []
  }
 ],
 "metadata": {
  "kernelspec": {
   "display_name": "Python 3",
   "language": "python",
   "name": "python3"
  },
  "language_info": {
   "codemirror_mode": {
    "name": "ipython",
    "version": 3
   },
   "file_extension": ".py",
   "mimetype": "text/x-python",
   "name": "python",
   "nbconvert_exporter": "python",
   "pygments_lexer": "ipython3",
   "version": "3.7.8"
  }
 },
 "nbformat": 4,
 "nbformat_minor": 4
}
