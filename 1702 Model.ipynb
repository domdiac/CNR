{
 "cells": [
  {
   "cell_type": "code",
   "execution_count": 1,
   "metadata": {},
   "outputs": [
    {
     "name": "stdout",
     "output_type": "stream",
     "text": [
      "[PhysicalDevice(name='/physical_device:GPU:0', device_type='GPU'), PhysicalDevice(name='/physical_device:GPU:1', device_type='GPU')]\n"
     ]
    }
   ],
   "source": [
    "#!/usr/bin/env python\n",
    "# coding: utf-8\n",
    "\n",
    "# ## Caricamento dati\n",
    "\n",
    "# In[1]:\n",
    "\n",
    "\n",
    "import time\n",
    "#import logging\n",
    "#logging.basicConfig()\n",
    "#logging.getLogger().setLevel(logging.DEBUG)\n",
    "\n",
    "start = time.time()\n",
    "import pandas as pd\n",
    "import numpy as np\n",
    "from sklearn.model_selection import train_test_split\n",
    "import tensorflow as tf\n",
    "import matplotlib.pyplot as plt\n",
    "keras = tf.keras\n",
    "from tensorflow.keras.utils import to_categorical\n",
    "from livelossplot import PlotLossesKerasTF\n",
    "import funzioni as fz\n",
    "import importlib\n",
    "from collections import Counter\n",
    "from tensorflow.keras.utils import to_categorical\n",
    "from imblearn.under_sampling import ClusterCentroids\n",
    "from imblearn.over_sampling import RandomOverSampler\n",
    "from imblearn.pipeline import Pipeline\n",
    "from imblearn.under_sampling import RandomUnderSampler\n",
    "from imblearn.datasets import make_imbalance\n",
    "from imblearn.under_sampling import NearMiss\n",
    "from imblearn.metrics import classification_report_imbalanced\n",
    "import pickle\n",
    "from tensorflow.keras.layers import Dense, Input, Conv1D, Dropout, MaxPooling1D, Flatten, concatenate, AveragePooling1D\n",
    "from tensorflow.keras.models import Model\n",
    "gpus = tf.config.experimental.list_physical_devices('GPU')\n",
    "from tensorflow.keras.utils import plot_model\n",
    "from sklearn import preprocessing\n",
    "\n",
    "print(gpus)\n",
    "if gpus:\n",
    "  # Restrict TensorFlow to only use the second GPU\n",
    "  try:\n",
    "    tf.config.experimental.set_visible_devices(gpus[0], 'GPU')\n",
    "    tf.config.experimental.set_memory_growth(gpus[0], True)\n",
    "  except RuntimeError as e:\n",
    "    # Visible devices must be set at program startup\n",
    "    print(e)\n",
    "\n",
    "\n",
    "from tensorflow.keras.layers import Conv1D, Activation, GlobalAveragePooling1D, MaxPooling1D, AveragePooling1D, Dropout, Dense, Lambda, Flatten\n",
    "from tensorflow.keras.models import Sequential\n",
    "from tensorflow.keras.regularizers import l2\n",
    "\n",
    "from sklearn.model_selection import StratifiedKFold\n",
    "from sklearn.model_selection import RepeatedStratifiedKFold\n",
    "from sklearn.model_selection import cross_val_score\n",
    "from sklearn.tree import DecisionTreeClassifier\n",
    "from tensorflow.keras.wrappers.scikit_learn import KerasClassifier\n",
    "\n",
    "def print_count(labels):\n",
    "    c=Counter(labels)\n",
    "    print(sorted(c.items()))\n",
    "    tot=sum(c.values())\n",
    "    for item in c.items():\n",
    "        print(item[0], round(item[1]/tot*100, 2), '%')\n",
    "\n",
    "data=pd.read_pickle('/data1/Domenico/alldatatype.pkl')\n",
    "#data1=pd.read_pickle('/data1/Domenico/alldatatype.ino.pkl')\n",
    "#data2=pd.read_pickle('/data1/Domenico/alldatatype.notino.pkl')\n",
    "#data = pd.DataFrame(np.concatenate([data1, data2]), columns=data1.columns)"
   ]
  },
  {
   "cell_type": "code",
   "execution_count": 2,
   "metadata": {},
   "outputs": [
    {
     "name": "stderr",
     "output_type": "stream",
     "text": [
      "/home/domenico/anaconda3/envs/tf-gpu/lib/python3.7/site-packages/ipykernel_launcher.py:4: SettingWithCopyWarning: \n",
      "A value is trying to be set on a copy of a slice from a DataFrame.\n",
      "Try using .loc[row_indexer,col_indexer] = value instead\n",
      "\n",
      "See the caveats in the documentation: https://pandas.pydata.org/pandas-docs/stable/user_guide/indexing.html#returning-a-view-versus-a-copy\n",
      "  after removing the cwd from sys.path.\n"
     ]
    },
    {
     "name": "stdout",
     "output_type": "stream",
     "text": [
      "[(0, 66643), (1, 15999), (2, 184929), (3, 12803), (4, 8146), (5, 92261), (6, 16554)]\n",
      "0 16.77 %\n",
      "3 3.22 %\n",
      "1 4.03 %\n",
      "2 46.54 %\n",
      "5 23.22 %\n",
      "4 2.05 %\n",
      "6 4.17 %\n"
     ]
    }
   ],
   "source": [
    "cut = 2250\n",
    "X=data.iloc[:,0:2250]\n",
    "y=data.iloc[:,3251:]\n",
    "y['class']=y.apply(np.argmax, axis=1)\n",
    "print_count(y['class'])\n",
    "\n",
    "scaler = preprocessing.MinMaxScaler()\n",
    "X = pd.DataFrame(data = scaler.fit_transform(X.values.T).T, columns = X.columns)\n",
    "y=y['class']\n",
    "\n",
    "\n",
    "def build_park_model():\n",
    "    keras.backend.clear_session()\n",
    "    tf.random.set_seed(0)\n",
    "    np.random.seed(0)\n",
    "    filters = 80\n",
    "    kernel_size=200\n",
    "    subsample_length = 2\n",
    "    model=None\n",
    "    model = keras.models.Sequential()\n",
    "    model.add(keras.layers.Conv1D(filters, kernel_size, subsample_length, padding = 'same', input_shape=(X.shape[1],1))) \n",
    "    model.add(keras.layers.Activation('relu'))\n",
    "    model.add(keras.layers.Dropout(0.3))\n",
    "    model.add(keras.layers.AveragePooling1D(3, strides=None)) \n",
    "    model.add(Lambda(lambda v: tf.cast(tf.signal.fft(tf.cast(v,dtype=tf.complex64)),tf.float32)))\n",
    "    model.add(keras.layers.Conv1D(filters*2, int(kernel_size/2), subsample_length, padding = 'same')) \n",
    "    model.add(keras.layers.Activation('relu'))\n",
    "    model.add(keras.layers.Dropout(0.3))\n",
    "    model.add(keras.layers.AveragePooling1D(3, strides=None)) \n",
    "    model.add(keras.layers.Conv1D(filters*3, int(kernel_size/4), subsample_length, padding = 'same')) \n",
    "    model.add(keras.layers.Activation('relu'))\n",
    "    model.add(keras.layers.Dropout(0.3))\n",
    "    model.add(keras.layers.AveragePooling1D(3, strides=None)) \n",
    "    model.add(keras.layers.Flatten())\n",
    "    model.add(keras.layers.Dense(units=2800,activation='relu', kernel_regularizer='l2')) #Aggiunto\n",
    "    model.add(keras.layers.BatchNormalization())\n",
    "    model.add(keras.layers.Dense(units=1400,activation='relu', kernel_regularizer='l2')) #Aggiunto\n",
    "    model.add(keras.layers.BatchNormalization())\n",
    "    model.add(keras.layers.Dense(units=700,activation='relu',kernel_regularizer='l2'))\n",
    "    model.add(keras.layers.BatchNormalization())\n",
    "    model.add(keras.layers.Dense(units=70,activation='relu',kernel_regularizer='l2'))\n",
    "    model.add(keras.layers.BatchNormalization())\n",
    "    model.add(keras.layers.Dense(units=7, activation='softmax'))\n",
    "\n",
    "    optimizer = keras.optimizers.Adam()\n",
    "    model.compile(loss='sparse_categorical_crossentropy',\n",
    "                  optimizer=optimizer,\n",
    "                  metrics=[\"accuracy\"])\n",
    "    return model"
   ]
  },
  {
   "cell_type": "markdown",
   "metadata": {},
   "source": [
    "## Training"
   ]
  },
  {
   "cell_type": "code",
   "execution_count": 3,
   "metadata": {},
   "outputs": [
    {
     "data": {
      "text/html": [
       "<div>\n",
       "<style scoped>\n",
       "    .dataframe tbody tr th:only-of-type {\n",
       "        vertical-align: middle;\n",
       "    }\n",
       "\n",
       "    .dataframe tbody tr th {\n",
       "        vertical-align: top;\n",
       "    }\n",
       "\n",
       "    .dataframe thead th {\n",
       "        text-align: right;\n",
       "    }\n",
       "</style>\n",
       "<table border=\"1\" class=\"dataframe\">\n",
       "  <thead>\n",
       "    <tr style=\"text-align: right;\">\n",
       "      <th></th>\n",
       "      <th>5.0</th>\n",
       "      <th>5.02</th>\n",
       "      <th>5.04</th>\n",
       "      <th>5.06</th>\n",
       "      <th>5.08</th>\n",
       "      <th>5.1</th>\n",
       "      <th>5.12</th>\n",
       "      <th>5.14</th>\n",
       "      <th>5.16</th>\n",
       "      <th>5.18</th>\n",
       "      <th>...</th>\n",
       "      <th>49.8</th>\n",
       "      <th>49.82</th>\n",
       "      <th>49.84</th>\n",
       "      <th>49.86</th>\n",
       "      <th>49.88</th>\n",
       "      <th>49.9</th>\n",
       "      <th>49.92</th>\n",
       "      <th>49.94</th>\n",
       "      <th>49.96</th>\n",
       "      <th>49.98</th>\n",
       "    </tr>\n",
       "  </thead>\n",
       "  <tbody>\n",
       "    <tr>\n",
       "      <th>0</th>\n",
       "      <td>0.0</td>\n",
       "      <td>0.000000</td>\n",
       "      <td>0.000000</td>\n",
       "      <td>0.000000</td>\n",
       "      <td>0.000000</td>\n",
       "      <td>0.000000</td>\n",
       "      <td>0.000000</td>\n",
       "      <td>0.000000</td>\n",
       "      <td>0.000000</td>\n",
       "      <td>0.000000</td>\n",
       "      <td>...</td>\n",
       "      <td>0.008640</td>\n",
       "      <td>0.012297</td>\n",
       "      <td>0.018003</td>\n",
       "      <td>0.027188</td>\n",
       "      <td>0.042419</td>\n",
       "      <td>0.068359</td>\n",
       "      <td>0.113020</td>\n",
       "      <td>0.188248</td>\n",
       "      <td>0.303424</td>\n",
       "      <td>0.442022</td>\n",
       "    </tr>\n",
       "    <tr>\n",
       "      <th>1</th>\n",
       "      <td>0.0</td>\n",
       "      <td>0.000000</td>\n",
       "      <td>0.000000</td>\n",
       "      <td>0.000000</td>\n",
       "      <td>0.000000</td>\n",
       "      <td>0.000000</td>\n",
       "      <td>0.000000</td>\n",
       "      <td>0.000000</td>\n",
       "      <td>0.000000</td>\n",
       "      <td>0.000000</td>\n",
       "      <td>...</td>\n",
       "      <td>0.000004</td>\n",
       "      <td>0.000005</td>\n",
       "      <td>0.000005</td>\n",
       "      <td>0.000005</td>\n",
       "      <td>0.000005</td>\n",
       "      <td>0.000005</td>\n",
       "      <td>0.000006</td>\n",
       "      <td>0.000006</td>\n",
       "      <td>0.000007</td>\n",
       "      <td>0.000009</td>\n",
       "    </tr>\n",
       "    <tr>\n",
       "      <th>2</th>\n",
       "      <td>0.0</td>\n",
       "      <td>0.000002</td>\n",
       "      <td>0.000002</td>\n",
       "      <td>0.000002</td>\n",
       "      <td>0.000003</td>\n",
       "      <td>0.000003</td>\n",
       "      <td>0.000003</td>\n",
       "      <td>0.000003</td>\n",
       "      <td>0.000003</td>\n",
       "      <td>0.000003</td>\n",
       "      <td>...</td>\n",
       "      <td>0.000219</td>\n",
       "      <td>0.000214</td>\n",
       "      <td>0.000226</td>\n",
       "      <td>0.000257</td>\n",
       "      <td>0.000312</td>\n",
       "      <td>0.000401</td>\n",
       "      <td>0.000541</td>\n",
       "      <td>0.000766</td>\n",
       "      <td>0.001130</td>\n",
       "      <td>0.001736</td>\n",
       "    </tr>\n",
       "    <tr>\n",
       "      <th>3</th>\n",
       "      <td>0.0</td>\n",
       "      <td>0.000000</td>\n",
       "      <td>0.000000</td>\n",
       "      <td>0.000000</td>\n",
       "      <td>0.000000</td>\n",
       "      <td>0.000000</td>\n",
       "      <td>0.000000</td>\n",
       "      <td>0.000000</td>\n",
       "      <td>0.000000</td>\n",
       "      <td>0.000000</td>\n",
       "      <td>...</td>\n",
       "      <td>0.000021</td>\n",
       "      <td>0.000021</td>\n",
       "      <td>0.000022</td>\n",
       "      <td>0.000026</td>\n",
       "      <td>0.000032</td>\n",
       "      <td>0.000042</td>\n",
       "      <td>0.000059</td>\n",
       "      <td>0.000089</td>\n",
       "      <td>0.000136</td>\n",
       "      <td>0.000202</td>\n",
       "    </tr>\n",
       "    <tr>\n",
       "      <th>4</th>\n",
       "      <td>0.0</td>\n",
       "      <td>0.000000</td>\n",
       "      <td>0.000000</td>\n",
       "      <td>0.000000</td>\n",
       "      <td>0.000000</td>\n",
       "      <td>0.000000</td>\n",
       "      <td>0.000000</td>\n",
       "      <td>0.000000</td>\n",
       "      <td>0.000000</td>\n",
       "      <td>0.000000</td>\n",
       "      <td>...</td>\n",
       "      <td>0.000003</td>\n",
       "      <td>0.000002</td>\n",
       "      <td>0.000002</td>\n",
       "      <td>0.000002</td>\n",
       "      <td>0.000001</td>\n",
       "      <td>0.000001</td>\n",
       "      <td>0.000001</td>\n",
       "      <td>0.000001</td>\n",
       "      <td>0.000001</td>\n",
       "      <td>0.000001</td>\n",
       "    </tr>\n",
       "  </tbody>\n",
       "</table>\n",
       "<p>5 rows × 2250 columns</p>\n",
       "</div>"
      ],
      "text/plain": [
       "   5.0      5.02      5.04      5.06      5.08       5.1      5.12      5.14  \\\n",
       "0  0.0  0.000000  0.000000  0.000000  0.000000  0.000000  0.000000  0.000000   \n",
       "1  0.0  0.000000  0.000000  0.000000  0.000000  0.000000  0.000000  0.000000   \n",
       "2  0.0  0.000002  0.000002  0.000002  0.000003  0.000003  0.000003  0.000003   \n",
       "3  0.0  0.000000  0.000000  0.000000  0.000000  0.000000  0.000000  0.000000   \n",
       "4  0.0  0.000000  0.000000  0.000000  0.000000  0.000000  0.000000  0.000000   \n",
       "\n",
       "       5.16      5.18  ...      49.8     49.82     49.84     49.86     49.88  \\\n",
       "0  0.000000  0.000000  ...  0.008640  0.012297  0.018003  0.027188  0.042419   \n",
       "1  0.000000  0.000000  ...  0.000004  0.000005  0.000005  0.000005  0.000005   \n",
       "2  0.000003  0.000003  ...  0.000219  0.000214  0.000226  0.000257  0.000312   \n",
       "3  0.000000  0.000000  ...  0.000021  0.000021  0.000022  0.000026  0.000032   \n",
       "4  0.000000  0.000000  ...  0.000003  0.000002  0.000002  0.000002  0.000001   \n",
       "\n",
       "       49.9     49.92     49.94     49.96     49.98  \n",
       "0  0.068359  0.113020  0.188248  0.303424  0.442022  \n",
       "1  0.000005  0.000006  0.000006  0.000007  0.000009  \n",
       "2  0.000401  0.000541  0.000766  0.001130  0.001736  \n",
       "3  0.000042  0.000059  0.000089  0.000136  0.000202  \n",
       "4  0.000001  0.000001  0.000001  0.000001  0.000001  \n",
       "\n",
       "[5 rows x 2250 columns]"
      ]
     },
     "execution_count": 3,
     "metadata": {},
     "output_type": "execute_result"
    }
   ],
   "source": [
    "X.head()"
   ]
  },
  {
   "cell_type": "code",
   "execution_count": 4,
   "metadata": {},
   "outputs": [],
   "source": [
    "sampling_strategy_under = {0: 50000, 2: 50000, 5:50000}\n",
    "sampling_strategy_over = {1:40000, 3: 40000, 4:40000, 6:40000}\n",
    "under = RandomUnderSampler(sampling_strategy=sampling_strategy_under)\n",
    "over = RandomOverSampler(sampling_strategy=sampling_strategy_over)"
   ]
  },
  {
   "cell_type": "code",
   "execution_count": 5,
   "metadata": {},
   "outputs": [],
   "source": [
    "X, y = under.fit_resample(X, y)"
   ]
  },
  {
   "cell_type": "code",
   "execution_count": 6,
   "metadata": {},
   "outputs": [],
   "source": [
    "X, y = over.fit_resample(X, y)"
   ]
  },
  {
   "cell_type": "code",
   "execution_count": 7,
   "metadata": {},
   "outputs": [],
   "source": [
    "model=build_park_model()\n",
    "X=X.values\n",
    "X=X.reshape(X.shape[0], X.shape[1], 1)"
   ]
  },
  {
   "cell_type": "code",
   "execution_count": 8,
   "metadata": {},
   "outputs": [
    {
     "name": "stdout",
     "output_type": "stream",
     "text": [
      "[(0, 50000), (1, 40000), (2, 50000), (3, 40000), (4, 40000), (5, 50000), (6, 40000)]\n",
      "0 16.13 %\n",
      "1 12.9 %\n",
      "2 16.13 %\n",
      "3 12.9 %\n",
      "4 12.9 %\n",
      "5 16.13 %\n",
      "6 12.9 %\n"
     ]
    }
   ],
   "source": [
    "print_count(y)"
   ]
  },
  {
   "cell_type": "code",
   "execution_count": 9,
   "metadata": {},
   "outputs": [
    {
     "data": {
      "image/png": "[encoded data removed]",
      "text/plain": [
       "<Figure size 864x576 with 2 Axes>"
      ]
     },
     "metadata": {
      "needs_background": "light"
     },
     "output_type": "display_data"
    },
    {
     "name": "stdout",
     "output_type": "stream",
     "text": [
      "accuracy\n",
      "\taccuracy         \t (min:    0.483, max:    0.909, cur:    0.909)\n",
      "Loss\n",
      "\tloss             \t (min:    0.270, max:    2.753, cur:    0.270)\n",
      "310000/310000 [==============================] - 138s 447us/sample - loss: 0.2700 - accuracy: 0.9089\n"
     ]
    }
   ],
   "source": [
    "plotlosses = PlotLossesKerasTF()\n",
    "\n",
    "#early_stopping=keras.callbacks.EarlyStopping(monitor='val_loss', patience=40, verbose=0, mode='min')\n",
    "#model_checkpoint = keras.callbacks.ModelCheckpoint(\"model_checkpoint.h5\", monitor='val_loss', mode='min', verbose=0, save_best_only=True)\n",
    "history = model.fit(X, y, batch_size = 200, verbose = 1, epochs=80, callbacks=[plotlosses], shuffle=True)"
   ]
  },
  {
   "cell_type": "code",
   "execution_count": 10,
   "metadata": {},
   "outputs": [],
   "source": [
    "scores = model.evaluate(X, y, verbose=0)"
   ]
  },
  {
   "cell_type": "code",
   "execution_count": 11,
   "metadata": {},
   "outputs": [
    {
     "name": "stdout",
     "output_type": "stream",
     "text": [
      "accuracy: 98.31%\n"
     ]
    }
   ],
   "source": [
    "print(\"%s: %.2f%%\" % (model.metrics_names[1], scores[1]*100))"
   ]
  },
  {
   "cell_type": "code",
   "execution_count": 12,
   "metadata": {},
   "outputs": [],
   "source": [
    "model.save(\"model.h5\")"
   ]
  },
  {
   "cell_type": "markdown",
   "metadata": {},
   "source": [
    "## Test"
   ]
  },
  {
   "cell_type": "code",
   "execution_count": 13,
   "metadata": {},
   "outputs": [
    {
     "name": "stdout",
     "output_type": "stream",
     "text": [
      "Model: \"sequential\"\n",
      "_________________________________________________________________\n",
      "Layer (type)                 Output Shape              Param #   \n",
      "=================================================================\n",
      "conv1d (Conv1D)              (None, 1125, 80)          16080     \n",
      "_________________________________________________________________\n",
      "activation (Activation)      (None, 1125, 80)          0         \n",
      "_________________________________________________________________\n",
      "dropout (Dropout)            (None, 1125, 80)          0         \n",
      "_________________________________________________________________\n",
      "average_pooling1d (AveragePo (None, 375, 80)           0         \n",
      "_________________________________________________________________\n",
      "lambda (Lambda)              (None, 375, 80)           0         \n",
      "_________________________________________________________________\n",
      "conv1d_1 (Conv1D)            (None, 188, 160)          1280160   \n",
      "_________________________________________________________________\n",
      "activation_1 (Activation)    (None, 188, 160)          0         \n",
      "_________________________________________________________________\n",
      "dropout_1 (Dropout)          (None, 188, 160)          0         \n",
      "_________________________________________________________________\n",
      "average_pooling1d_1 (Average (None, 62, 160)           0         \n",
      "_________________________________________________________________\n",
      "conv1d_2 (Conv1D)            (None, 31, 240)           1920240   \n",
      "_________________________________________________________________\n",
      "activation_2 (Activation)    (None, 31, 240)           0         \n",
      "_________________________________________________________________\n",
      "dropout_2 (Dropout)          (None, 31, 240)           0         \n",
      "_________________________________________________________________\n",
      "average_pooling1d_2 (Average (None, 10, 240)           0         \n",
      "_________________________________________________________________\n",
      "flatten (Flatten)            (None, 2400)              0         \n",
      "_________________________________________________________________\n",
      "dense (Dense)                (None, 2800)              6722800   \n",
      "_________________________________________________________________\n",
      "batch_normalization (BatchNo (None, 2800)              11200     \n",
      "_________________________________________________________________\n",
      "dense_1 (Dense)              (None, 1400)              3921400   \n",
      "_________________________________________________________________\n",
      "batch_normalization_1 (Batch (None, 1400)              5600      \n",
      "_________________________________________________________________\n",
      "dense_2 (Dense)              (None, 700)               980700    \n",
      "_________________________________________________________________\n",
      "batch_normalization_2 (Batch (None, 700)               2800      \n",
      "_________________________________________________________________\n",
      "dense_3 (Dense)              (None, 70)                49070     \n",
      "_________________________________________________________________\n",
      "batch_normalization_3 (Batch (None, 70)                280       \n",
      "_________________________________________________________________\n",
      "dense_4 (Dense)              (None, 7)                 497       \n",
      "=================================================================\n",
      "Total params: 14,910,827\n",
      "Trainable params: 14,900,887\n",
      "Non-trainable params: 9,940\n",
      "_________________________________________________________________\n",
      "accuracy: 98.31%\n"
     ]
    }
   ],
   "source": [
    "from tensorflow.keras.models import load_model\n",
    " \n",
    "# load model\n",
    "loaded_model = load_model('model.h5')\n",
    "# summarize model.\n",
    "loaded_model.summary()\n",
    "# evaluate the model\n",
    "score = loaded_model.evaluate(X, y, verbose=0)\n",
    "print(\"%s: %.2f%%\" % (loaded_model.metrics_names[1], score[1]*100))"
   ]
  },
  {
   "cell_type": "code",
   "execution_count": 14,
   "metadata": {},
   "outputs": [
    {
     "data": {
      "text/plain": [
       "(310000, 2250, 1)"
      ]
     },
     "execution_count": 14,
     "metadata": {},
     "output_type": "execute_result"
    }
   ],
   "source": [
    "X.shape"
   ]
  },
  {
   "cell_type": "code",
   "execution_count": 15,
   "metadata": {},
   "outputs": [
    {
     "data": {
      "text/plain": [
       "(310000,)"
      ]
     },
     "execution_count": 15,
     "metadata": {},
     "output_type": "execute_result"
    }
   ],
   "source": [
    "y.shape"
   ]
  },
  {
   "cell_type": "code",
   "execution_count": 16,
   "metadata": {},
   "outputs": [
    {
     "data": {
      "text/plain": [
       "0         0\n",
       "1         0\n",
       "2         0\n",
       "3         0\n",
       "4         0\n",
       "         ..\n",
       "309995    6\n",
       "309996    6\n",
       "309997    6\n",
       "309998    6\n",
       "309999    6\n",
       "Name: class, Length: 310000, dtype: int64"
      ]
     },
     "execution_count": 16,
     "metadata": {},
     "output_type": "execute_result"
    }
   ],
   "source": [
    "y"
   ]
  },
  {
   "cell_type": "code",
   "execution_count": 17,
   "metadata": {},
   "outputs": [],
   "source": [
    "y_new=loaded_model.predict(X)"
   ]
  },
  {
   "cell_type": "code",
   "execution_count": 18,
   "metadata": {},
   "outputs": [
    {
     "data": {
      "text/plain": [
       "array([[9.93101954e-01, 1.74174493e-04, 6.68278523e-03, ...,\n",
       "        4.63067272e-06, 2.25440126e-05, 8.81531719e-07],\n",
       "       [9.82349575e-01, 4.06849384e-03, 1.20614432e-02, ...,\n",
       "        5.34210587e-04, 2.38292065e-04, 2.64159862e-05],\n",
       "       [9.27629173e-01, 2.22375765e-02, 2.56426893e-02, ...,\n",
       "        1.45157445e-02, 2.01705727e-03, 5.30736987e-04],\n",
       "       ...,\n",
       "       [1.36074996e-05, 2.60002702e-03, 6.76252739e-06, ...,\n",
       "        2.08623931e-07, 8.15446128e-07, 9.97327447e-01],\n",
       "       [6.13610354e-08, 1.22653641e-04, 2.57185118e-08, ...,\n",
       "        3.12302806e-09, 4.39600978e-09, 9.99872565e-01],\n",
       "       [5.76230173e-04, 5.65815601e-04, 3.14864039e-04, ...,\n",
       "        3.99341094e-09, 1.96119959e-06, 9.98520195e-01]], dtype=float32)"
      ]
     },
     "execution_count": 18,
     "metadata": {},
     "output_type": "execute_result"
    }
   ],
   "source": [
    "y_new"
   ]
  },
  {
   "cell_type": "code",
   "execution_count": null,
   "metadata": {},
   "outputs": [],
   "source": []
  }
 ],
 "metadata": {
  "kernelspec": {
   "display_name": "Python 3",
   "language": "python",
   "name": "python3"
  },
  "language_info": {
   "codemirror_mode": {
    "name": "ipython",
    "version": 3
   },
   "file_extension": ".py",
   "mimetype": "text/x-python",
   "name": "python",
   "nbconvert_exporter": "python",
   "pygments_lexer": "ipython3",
   "version": "3.7.7"
  }
 },
 "nbformat": 4,
 "nbformat_minor": 4
}
